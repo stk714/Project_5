{
 "cells": [
  {
   "cell_type": "markdown",
   "metadata": {},
   "source": [
    "# Financial Planning with APIs and Simulations\n",
    "\n",
    "In this Challenge, you’ll create two financial analysis tools by using a single Jupyter notebook:\n",
    "\n",
    "Part 1: A financial planner for emergencies. The members will be able to use this tool to visualize their current savings. The members can then determine if they have enough reserves for an emergency fund.\n",
    "\n",
    "Part 2: A financial planner for retirement. This tool will forecast the performance of their retirement portfolio in 30 years. To do this, the tool will make an Alpaca API call via the Alpaca SDK to get historical price data for use in Monte Carlo simulations.\n",
    "\n",
    "You’ll use the information from the Monte Carlo simulation to answer questions about the portfolio in your Jupyter notebook.\n",
    "\n"
   ]
  },
  {
   "cell_type": "code",
   "execution_count": 1,
   "metadata": {},
   "outputs": [],
   "source": [
    "# Import the required libraries and dependencies\n",
    "import os\n",
    "import requests\n",
    "import json\n",
    "import pandas as pd\n",
    "from dotenv import load_dotenv\n",
    "import alpaca_trade_api as tradeapi\n",
    "from MCForecastTools import MCSimulation\n",
    "import datetime\n",
    "\n",
    "%matplotlib inline"
   ]
  },
  {
   "cell_type": "code",
   "execution_count": 2,
   "metadata": {},
   "outputs": [
    {
     "data": {
      "text/plain": [
       "True"
      ]
     },
     "execution_count": 2,
     "metadata": {},
     "output_type": "execute_result"
    }
   ],
   "source": [
    "# Load the environment variables from the .env file\n",
    "#by calling the load_dotenv function\n",
    "load_dotenv()"
   ]
  },
  {
   "cell_type": "markdown",
   "metadata": {},
   "source": [
    "## Part 1: Create a Financial Planner for Emergencies"
   ]
  },
  {
   "cell_type": "markdown",
   "metadata": {},
   "source": [
    "### Evaluate the Cryptocurrency Wallet by Using the Requests Library\n",
    "\n",
    "In this section, you’ll determine the current value of a member’s cryptocurrency wallet. You’ll collect the current prices for the Bitcoin and Ethereum cryptocurrencies by using the Python Requests library. For the prototype, you’ll assume that the member holds the 1.2 Bitcoins (BTC) and 5.3 Ethereum coins (ETH). To do all this, complete the following steps:\n",
    "\n",
    "1. Create a variable named `monthly_income`, and set its value to `12000`.\n",
    "\n",
    "2. Use the Requests library to get the current price (in US dollars) of Bitcoin (BTC) and Ethereum (ETH) by using the API endpoints that the starter code supplies.\n",
    "\n",
    "3. Navigate the JSON response object to access the current price of each coin, and store each in a variable.\n",
    "\n",
    "    > **Hint** Note the specific identifier for each cryptocurrency in the API JSON response. The Bitcoin identifier is `1`, and the Ethereum identifier is `1027`.\n",
    "\n",
    "4. Calculate the value, in US dollars, of the current amount of each cryptocurrency and of the entire cryptocurrency wallet.\n",
    "\n"
   ]
  },
  {
   "cell_type": "code",
   "execution_count": 3,
   "metadata": {},
   "outputs": [],
   "source": [
    "# The current number of coins for each cryptocurrency asset held in the portfolio.\n",
    "btc_coins = 1.2\n",
    "eth_coins = 5.3"
   ]
  },
  {
   "cell_type": "markdown",
   "metadata": {},
   "source": [
    "#### Step 1: Create a variable named `monthly_income`, and set its value to `12000`."
   ]
  },
  {
   "cell_type": "code",
   "execution_count": 4,
   "metadata": {},
   "outputs": [],
   "source": [
    "# The monthly amount for the member's household income\n",
    "# YOUR CODE HERE\n",
    "monthly_income = 12000"
   ]
  },
  {
   "cell_type": "markdown",
   "metadata": {},
   "source": [
    "#### Review the endpoint URLs for the API calls to Free Crypto API in order to get the current pricing information for both BTC and ETH."
   ]
  },
  {
   "cell_type": "code",
   "execution_count": 5,
   "metadata": {},
   "outputs": [],
   "source": [
    "# The Free Crypto API Call endpoint URLs for the held cryptocurrency assets\n",
    "btc_url = \"https://api.alternative.me/v2/ticker/Bitcoin/?convert=USD\"\n",
    "eth_url = \"https://api.alternative.me/v2/ticker/Ethereum/?convert=USD\""
   ]
  },
  {
   "cell_type": "markdown",
   "metadata": {},
   "source": [
    "#### Step 2. Use the Requests library to get the current price (in US dollars) of Bitcoin (BTC) and Ethereum (ETH) by using the API endpoints that the starter code supplied."
   ]
  },
  {
   "cell_type": "code",
   "execution_count": 6,
   "metadata": {},
   "outputs": [
    {
     "name": "stdout",
     "output_type": "stream",
     "text": [
      "{\n",
      "  \"data\": {\n",
      "    \"1\": {\n",
      "      \"circulating_supply\": 18622812,\n",
      "      \"id\": 1,\n",
      "      \"last_updated\": 1612758230,\n",
      "      \"max_supply\": 21000000,\n",
      "      \"name\": \"Bitcoin\",\n",
      "      \"quotes\": {\n",
      "        \"USD\": {\n",
      "          \"market_cap\": 715988575795,\n",
      "          \"percent_change_1h\": 0.365397800841192,\n",
      "          \"percent_change_24h\": 0.209732036750621,\n",
      "          \"percent_change_7d\": 16.2773451811712,\n",
      "          \"percentage_change_1h\": 0.365397800841192,\n",
      "          \"percentage_change_24h\": 0.209732036750621,\n",
      "          \"percentage_change_7d\": 16.2773451811712,\n",
      "          \"price\": 38447.0,\n",
      "          \"volume_24h\": 50887460445\n",
      "        }\n",
      "      },\n",
      "      \"rank\": 1,\n",
      "      \"symbol\": \"BTC\",\n",
      "      \"total_supply\": 18622812,\n",
      "      \"website_slug\": \"bitcoin\"\n",
      "    }\n",
      "  },\n",
      "  \"metadata\": {\n",
      "    \"error\": null,\n",
      "    \"num_cryptocurrencies\": 1366,\n",
      "    \"timestamp\": 1612758230\n",
      "  }\n",
      "}\n"
     ]
    }
   ],
   "source": [
    "# Using the Python requests library, make an API call to access the current price of BTC\n",
    "btc_response = requests.get(btc_url).json()\n",
    "\n",
    "# Use the json.dumps function to review the response data from the API call\n",
    "# Use the indent and sort_keys parameters to make the response object readable\n",
    "# YOUR CODE HERE\n",
    "print(json.dumps(btc_response, indent=2, sort_keys=True))"
   ]
  },
  {
   "cell_type": "code",
   "execution_count": 7,
   "metadata": {},
   "outputs": [
    {
     "name": "stdout",
     "output_type": "stream",
     "text": [
      "{\n",
      "  \"data\": {\n",
      "    \"1027\": {\n",
      "      \"circulating_supply\": 114581611,\n",
      "      \"id\": 1027,\n",
      "      \"last_updated\": 1612758579,\n",
      "      \"max_supply\": 0,\n",
      "      \"name\": \"Ethereum\",\n",
      "      \"quotes\": {\n",
      "        \"USD\": {\n",
      "          \"market_cap\": 184322334662,\n",
      "          \"percent_change_1h\": 2.10710522937893,\n",
      "          \"percent_change_24h\": -0.0608231836194619,\n",
      "          \"percent_change_7d\": 22.3425237961841,\n",
      "          \"percentage_change_1h\": 2.10710522937893,\n",
      "          \"percentage_change_24h\": -0.0608231836194619,\n",
      "          \"percentage_change_7d\": 22.3425237961841,\n",
      "          \"price\": 1611.31,\n",
      "          \"volume_24h\": 37668365597\n",
      "        }\n",
      "      },\n",
      "      \"rank\": 2,\n",
      "      \"symbol\": \"ETH\",\n",
      "      \"total_supply\": 114581611,\n",
      "      \"website_slug\": \"ethereum\"\n",
      "    }\n",
      "  },\n",
      "  \"metadata\": {\n",
      "    \"error\": null,\n",
      "    \"num_cryptocurrencies\": 1366,\n",
      "    \"timestamp\": 1612758579\n",
      "  }\n",
      "}\n"
     ]
    }
   ],
   "source": [
    "# Using the Python requests library, make an API call to access the current price ETH\n",
    "eth_response = requests.get(eth_url).json()\n",
    "\n",
    "# Use the json.dumps function to review the response data from the API call\n",
    "# Use the indent and sort_keys parameters to make the response object readable\n",
    "# YOUR CODE HERE\n",
    "print(json.dumps(eth_response, indent=2, sort_keys=True))"
   ]
  },
  {
   "cell_type": "markdown",
   "metadata": {},
   "source": [
    "#### Step 3: Navigate the JSON response object to access the current price of each coin, and store each in a variable."
   ]
  },
  {
   "cell_type": "code",
   "execution_count": 8,
   "metadata": {},
   "outputs": [
    {
     "data": {
      "text/plain": [
       "38447.0"
      ]
     },
     "execution_count": 8,
     "metadata": {},
     "output_type": "execute_result"
    }
   ],
   "source": [
    "# Navigate the BTC response object to access the current price of BTC\n",
    "btc_price = btc_response[\"data\"][\"1\"][\"quotes\"][\"USD\"][\"price\"]\n",
    "\n",
    "# Print the current price of BTC\n",
    "# YOUR CODE HERE\n",
    "btc_price"
   ]
  },
  {
   "cell_type": "code",
   "execution_count": 9,
   "metadata": {},
   "outputs": [
    {
     "data": {
      "text/plain": [
       "1611.31"
      ]
     },
     "execution_count": 9,
     "metadata": {},
     "output_type": "execute_result"
    }
   ],
   "source": [
    "# Navigate the ETH response object to access the current price of ETH\n",
    "eth_price = eth_response[\"data\"][\"1027\"][\"quotes\"][\"USD\"][\"price\"]\n",
    "\n",
    "# Print the current price of ETH\n",
    "# YOUR CODE HERE\n",
    "eth_price"
   ]
  },
  {
   "cell_type": "markdown",
   "metadata": {},
   "source": [
    "### Step 4: Calculate the value, in US dollars, of the current amount of each cryptocurrency and of the entire cryptocurrency wallet."
   ]
  },
  {
   "cell_type": "code",
   "execution_count": 10,
   "metadata": {},
   "outputs": [
    {
     "data": {
      "text/plain": [
       "46136.4"
      ]
     },
     "execution_count": 10,
     "metadata": {},
     "output_type": "execute_result"
    }
   ],
   "source": [
    "# Compute the current value of the BTC holding \n",
    "btc_value = btc_coins * btc_price\n",
    "\n",
    "# Print current value of your holding in BTC\n",
    "# YOUR CODE HERE\n",
    "btc_value"
   ]
  },
  {
   "cell_type": "code",
   "execution_count": 11,
   "metadata": {},
   "outputs": [
    {
     "data": {
      "text/plain": [
       "8539.943"
      ]
     },
     "execution_count": 11,
     "metadata": {},
     "output_type": "execute_result"
    }
   ],
   "source": [
    "# Compute the current value of the ETH holding \n",
    "eth_value = eth_coins * eth_price\n",
    "\n",
    "# Print current value of your holding in ETH\n",
    "# YOUR CODE HERE\n",
    "eth_value"
   ]
  },
  {
   "cell_type": "code",
   "execution_count": 12,
   "metadata": {},
   "outputs": [
    {
     "name": "stdout",
     "output_type": "stream",
     "text": [
      "Total Crypto Wallet Value: 54676.343\n"
     ]
    }
   ],
   "source": [
    "# Compute the total value of the cryptocurrency wallet\n",
    "# Add the value of the BTC holding to the value of the ETH holding\n",
    "total_crypto_wallet = btc_value + eth_value\n",
    "\n",
    "# Print current cryptocurrency wallet balance\n",
    "# YOUR CODE HERE\n",
    "print(f\"Total Crypto Wallet Value: {total_crypto_wallet}\")"
   ]
  },
  {
   "cell_type": "markdown",
   "metadata": {},
   "source": [
    "### Evaluate the Stock and Bond Holdings by Using the Alpaca SDK\n",
    "\n",
    "In this section, you’ll determine the current value of a member’s stock and bond holdings. You’ll make an API call to Alpaca via the Alpaca SDK to get the current closing prices of the SPDR S&P 500 ETF Trust (ticker: SPY) and of the iShares Core US Aggregate Bond ETF (ticker: AGG). For the prototype, assume that the member holds 110 shares of SPY, which represents the stock portion of their portfolio, and 200 shares of AGG, which represents the bond portion. To do all this, complete the following steps:\n",
    "\n",
    "1. In the `Starter_Code` folder, create an environment file (`.env`) to store the values of your Alpaca API key and Alpaca secret key.\n",
    "\n",
    "2. Set the variables for the Alpaca API and secret keys. Using the Alpaca SDK, create the Alpaca `tradeapi.REST` object. In this object, include the parameters for the Alpaca API key, the secret key, and the version number.\n",
    "\n",
    "3. Set the following parameters for the Alpaca API call:\n",
    "\n",
    "    - `tickers`: Use the tickers for the member’s stock and bond holdings.\n",
    "\n",
    "    - `timeframe`: Use a time frame of one day.\n",
    "\n",
    "    - `start_date` and `end_date`: Use the same date for these parameters, and format them with the date of the previous weekday (or `2020-08-07`). This is because you want the one closing price for the most-recent trading day.\n",
    "\n",
    "4. Get the current closing prices for `SPY` and `AGG` by using the Alpaca `get_barset` function. Format the response as a Pandas DataFrame by including the `df` property at the end of the `get_barset` function.\n",
    "\n",
    "5. Navigating the Alpaca response DataFrame, select the `SPY` and `AGG` closing prices, and store them as variables.\n",
    "\n",
    "6. Calculate the value, in US dollars, of the current amount of shares in each of the stock and bond portions of the portfolio, and print the results.\n"
   ]
  },
  {
   "cell_type": "markdown",
   "metadata": {},
   "source": [
    "#### Review the total number of shares held in both (SPY) and (AGG)."
   ]
  },
  {
   "cell_type": "code",
   "execution_count": 13,
   "metadata": {},
   "outputs": [],
   "source": [
    "# Current amount of shares held in both the stock (SPY) and bond (AGG) portion of the portfolio.\n",
    "spy_shares = 110\n",
    "agg_shares = 200\n"
   ]
  },
  {
   "cell_type": "markdown",
   "metadata": {},
   "source": [
    "#### Step 1: In the `Starter_Code` folder, create an environment file (`.env`) to store the values of your Alpaca API key and Alpaca secret key."
   ]
  },
  {
   "cell_type": "markdown",
   "metadata": {},
   "source": [
    "#### Step 2: Set the variables for the Alpaca API and secret keys. Using the Alpaca SDK, create the Alpaca `tradeapi.REST` object. In this object, include the parameters for the Alpaca API key, the secret key, and the version number."
   ]
  },
  {
   "cell_type": "code",
   "execution_count": 14,
   "metadata": {},
   "outputs": [
    {
     "data": {
      "text/plain": [
       "str"
      ]
     },
     "metadata": {},
     "output_type": "display_data"
    },
    {
     "data": {
      "text/plain": [
       "str"
      ]
     },
     "metadata": {},
     "output_type": "display_data"
    }
   ],
   "source": [
    "# Set the variables for the Alpaca API and secret keys\n",
    "alpaca_api_key = os.getenv(\"ALPACA_API_KEY\")\n",
    "alpaca_secret_key = os.getenv(\"ALPACA_SECRET_KEY\")\n",
    "\n",
    "display(type(alpaca_api_key))\n",
    "display(type(alpaca_secret_key))"
   ]
  },
  {
   "cell_type": "code",
   "execution_count": 15,
   "metadata": {},
   "outputs": [],
   "source": [
    "# Create the Alpaca tradeapi.REST object\n",
    "alpaca = tradeapi.REST(\n",
    "    alpaca_api_key,\n",
    "    alpaca_secret_key,\n",
    "    api_version=\"v2\")"
   ]
  },
  {
   "cell_type": "markdown",
   "metadata": {},
   "source": [
    "#### Step 3: Set the following parameters for the Alpaca API call:\n",
    "\n",
    "- `tickers`: Use the tickers for the member’s stock and bond holdings.\n",
    "\n",
    "- `timeframe`: Use a time frame of one day.\n",
    "\n",
    "- `start_date` and `end_date`: Use the same date for these parameters, and format them with the date of the previous weekday (or `2020-08-07`). This is because you want the one closing price for the most-recent trading day.\n"
   ]
  },
  {
   "cell_type": "code",
   "execution_count": 16,
   "metadata": {},
   "outputs": [],
   "source": [
    "# Set the tickers for both the bond and stock portion of the portfolio\n",
    "tickers = [\"SPY\", \"AGG\"]\n",
    "\n",
    "# Set timeframe to 1D \n",
    "timeframe = \"1D\"\n",
    "\n",
    "# Format current date as ISO format\n",
    "# Set both the start and end date at the date of your prior weekday \n",
    "# This will give you the closing price of the previous trading day\n",
    "# Alternatively you can use a start and end date of 2020-08-07\n",
    "start_date = pd.Timestamp(\"2020-08-07\", tz=\"America/New_York\").isoformat()\n",
    "end_date = pd.Timestamp(\"2020-08-07\", tz=\"America/New_York\").isoformat()"
   ]
  },
  {
   "cell_type": "markdown",
   "metadata": {},
   "source": [
    "shares_data = {\n",
    "    \"shares\": [110, 200]\n",
    "}\n",
    "\n",
    "# Set the tickers\n",
    "tickers = [\"SPY\", \"AGG\"]\n",
    "\n",
    "# Create the shares DataFrame\n",
    "portfolio_df = pd.DataFrame(shares_data, index=tickers)\n",
    "\n",
    "# Display shares data\n",
    "portfolio_df"
   ]
  },
  {
   "cell_type": "markdown",
   "metadata": {},
   "source": [
    "#### Step 4: Get the current closing prices for `SPY` and `AGG` by using the Alpaca `get_barset` function. Format the response as a Pandas DataFrame by including the `df` property at the end of the `get_barset` function."
   ]
  },
  {
   "cell_type": "code",
   "execution_count": 17,
   "metadata": {},
   "outputs": [
    {
     "data": {
      "text/html": [
       "<div>\n",
       "<style scoped>\n",
       "    .dataframe tbody tr th:only-of-type {\n",
       "        vertical-align: middle;\n",
       "    }\n",
       "\n",
       "    .dataframe tbody tr th {\n",
       "        vertical-align: top;\n",
       "    }\n",
       "\n",
       "    .dataframe thead tr th {\n",
       "        text-align: left;\n",
       "    }\n",
       "\n",
       "    .dataframe thead tr:last-of-type th {\n",
       "        text-align: right;\n",
       "    }\n",
       "</style>\n",
       "<table border=\"1\" class=\"dataframe\">\n",
       "  <thead>\n",
       "    <tr>\n",
       "      <th></th>\n",
       "      <th colspan=\"5\" halign=\"left\">AGG</th>\n",
       "      <th colspan=\"5\" halign=\"left\">SPY</th>\n",
       "    </tr>\n",
       "    <tr>\n",
       "      <th></th>\n",
       "      <th>open</th>\n",
       "      <th>high</th>\n",
       "      <th>low</th>\n",
       "      <th>close</th>\n",
       "      <th>volume</th>\n",
       "      <th>open</th>\n",
       "      <th>high</th>\n",
       "      <th>low</th>\n",
       "      <th>close</th>\n",
       "      <th>volume</th>\n",
       "    </tr>\n",
       "    <tr>\n",
       "      <th>time</th>\n",
       "      <th></th>\n",
       "      <th></th>\n",
       "      <th></th>\n",
       "      <th></th>\n",
       "      <th></th>\n",
       "      <th></th>\n",
       "      <th></th>\n",
       "      <th></th>\n",
       "      <th></th>\n",
       "      <th></th>\n",
       "    </tr>\n",
       "  </thead>\n",
       "  <tbody>\n",
       "    <tr>\n",
       "      <th>2020-08-07 00:00:00-04:00</th>\n",
       "      <td>119.66</td>\n",
       "      <td>119.73</td>\n",
       "      <td>119.395</td>\n",
       "      <td>119.445</td>\n",
       "      <td>8830420</td>\n",
       "      <td>333.28</td>\n",
       "      <td>334.88</td>\n",
       "      <td>332.3</td>\n",
       "      <td>334.55</td>\n",
       "      <td>98710236</td>\n",
       "    </tr>\n",
       "  </tbody>\n",
       "</table>\n",
       "</div>"
      ],
      "text/plain": [
       "                              AGG                                        SPY  \\\n",
       "                             open    high      low    close   volume    open   \n",
       "time                                                                           \n",
       "2020-08-07 00:00:00-04:00  119.66  119.73  119.395  119.445  8830420  333.28   \n",
       "\n",
       "                                                            \n",
       "                             high    low   close    volume  \n",
       "time                                                        \n",
       "2020-08-07 00:00:00-04:00  334.88  332.3  334.55  98710236  "
      ]
     },
     "execution_count": 17,
     "metadata": {},
     "output_type": "execute_result"
    }
   ],
   "source": [
    "# Use the Alpaca get_barset function to get current closing prices the portfolio\n",
    "# Be sure to set the `df` property after the function to format the response object as a DataFrame\n",
    "prices_df = alpaca.get_barset(\n",
    "    tickers,\n",
    "    timeframe,\n",
    "    start=start_date,\n",
    "    end=end_date\n",
    ").df\n",
    "\n",
    "# Review the first 5 rows of the Alpaca DataFrame\n",
    "# YOUR CODE HERE\n",
    "prices_df.head(5)"
   ]
  },
  {
   "cell_type": "markdown",
   "metadata": {},
   "source": [
    "#### Step 5: Navigating the Alpaca response DataFrame, select the `SPY` and `AGG` closing prices, and store them as variables."
   ]
  },
  {
   "cell_type": "code",
   "execution_count": 18,
   "metadata": {},
   "outputs": [
    {
     "data": {
      "text/plain": [
       "119.445"
      ]
     },
     "execution_count": 18,
     "metadata": {},
     "output_type": "execute_result"
    }
   ],
   "source": [
    "# Access the closing price for AGG from the Alpaca DataFrame\n",
    "# Converting the value to a floating point number\n",
    "agg_close_price = float(prices_df[\"AGG\"][\"close\"])\n",
    "\n",
    "# Print the AGG closing price\n",
    "# YOUR CODE HERE\n",
    "agg_close_price"
   ]
  },
  {
   "cell_type": "code",
   "execution_count": 19,
   "metadata": {},
   "outputs": [
    {
     "data": {
      "text/plain": [
       "334.55"
      ]
     },
     "execution_count": 19,
     "metadata": {},
     "output_type": "execute_result"
    }
   ],
   "source": [
    "# Access the closing price for SPY from the Alpaca DataFrame\n",
    "# Converting the value to a floating point number\n",
    "spy_close_price = float(prices_df[\"SPY\"][\"close\"])\n",
    "\n",
    "# Print the SPY closing price\n",
    "spy_close_price"
   ]
  },
  {
   "cell_type": "markdown",
   "metadata": {},
   "source": [
    "#### Step 6: Calculate the value, in US dollars, of the current amount of shares in each of the stock and bond portions of the portfolio, and print the results."
   ]
  },
  {
   "cell_type": "code",
   "execution_count": 20,
   "metadata": {},
   "outputs": [
    {
     "data": {
      "text/plain": [
       "23889.0"
      ]
     },
     "execution_count": 20,
     "metadata": {},
     "output_type": "execute_result"
    }
   ],
   "source": [
    "# Calculate the current value of the bond portion of the portfolio\n",
    "agg_value = agg_shares * agg_close_price\n",
    "\n",
    "# Print the current value of the bond portfolio\n",
    "agg_value\n"
   ]
  },
  {
   "cell_type": "code",
   "execution_count": 21,
   "metadata": {},
   "outputs": [
    {
     "data": {
      "text/plain": [
       "36800.5"
      ]
     },
     "execution_count": 21,
     "metadata": {},
     "output_type": "execute_result"
    }
   ],
   "source": [
    "# Calculate the current value of the stock portion of the portfolio\n",
    "spy_value = spy_shares * spy_close_price\n",
    "\n",
    "# Print the current value of the stock portfolio\n",
    "spy_value\n"
   ]
  },
  {
   "cell_type": "code",
   "execution_count": 22,
   "metadata": {},
   "outputs": [
    {
     "name": "stdout",
     "output_type": "stream",
     "text": [
      "Total Stocks & Bonds Value: 60689.5\n"
     ]
    }
   ],
   "source": [
    "# Calculate the total value of the stock and bond portion of the portfolio\n",
    "total_stocks_bonds = spy_value + agg_value\n",
    "\n",
    "# Print the current balance of the stock and bond portion of the portfolio\n",
    "print(f\"Total Stocks & Bonds Value: {total_stocks_bonds}\")\n"
   ]
  },
  {
   "cell_type": "code",
   "execution_count": 23,
   "metadata": {},
   "outputs": [
    {
     "name": "stdout",
     "output_type": "stream",
     "text": [
      "Total Portfolio Value: 115365.843\n"
     ]
    }
   ],
   "source": [
    "# Calculate the total value of the member's entire savings portfolio\n",
    "# Add the value of the cryptocurrency wallet to the value of the total stocks and bonds\n",
    "total_portfolio = total_stocks_bonds + total_crypto_wallet\n",
    "\n",
    "# Print current cryptocurrency wallet balance\n",
    "# YOUR CODE HERE\n",
    "print(f\"Total Portfolio Value: {total_portfolio}\")"
   ]
  },
  {
   "cell_type": "markdown",
   "metadata": {},
   "source": [
    "### Evaluate the Emergency Fund\n",
    "\n",
    "In this section, you’ll use the valuations for the cryptocurrency wallet and for the stock and bond portions of the portfolio to determine if the credit union member has enough savings to build an emergency fund into their financial plan. To do this, complete the following steps:\n",
    "\n",
    "1. Create a Python list named `savings_data` that has two elements. The first element contains the total value of the cryptocurrency wallet. The second element contains the total value of the stock and bond portions of the portfolio.\n",
    "\n",
    "2. Use the `savings_data` list to create a Pandas DataFrame named `savings_df`, and then display this DataFrame. The function to create the DataFrame should take the following three parameters:\n",
    "\n",
    "    - `savings_data`: Use the list that you just created.\n",
    "\n",
    "    - `columns`: Set this parameter equal to a Python list with a single value called `amount`.\n",
    "\n",
    "    - `index`: Set this parameter equal to a Python list with the values of `crypto` and `stock/bond`.\n",
    "\n",
    "3. Use the `savings_df` DataFrame to plot a pie chart that visualizes the composition of the member’s portfolio. The y-axis of the pie chart uses `amount`. Be sure to add a title.\n",
    "\n",
    "4. Using Python, determine if the current portfolio has enough to create an emergency fund as part of the member’s financial plan. Ideally, an emergency fund should equal to three times the member’s monthly income. To do this, implement the following steps:\n",
    "\n",
    "    1. Create a variable named `emergency_fund_value`, and set it equal to three times the value of the member’s `monthly_income` of $12000. (You set this earlier in Part 1).\n",
    "\n",
    "    2. Create a series of three if statements to determine if the member’s total portfolio is large enough to fund the emergency portfolio:\n",
    "\n",
    "        1. If the total portfolio value is greater than the emergency fund value, display a message congratulating the member for having enough money in this fund.\n",
    "\n",
    "        2. Else if the total portfolio value is equal to the emergency fund value, display a message congratulating the member on reaching this important financial goal.\n",
    "\n",
    "        3. Else the total portfolio is less than the emergency fund value, so display a message showing how many dollars away the member is from reaching the goal. (Subtract the total portfolio value from the emergency fund value.)\n"
   ]
  },
  {
   "cell_type": "markdown",
   "metadata": {},
   "source": [
    "#### Step 1: Create a Python list named `savings_data` that has two elements. The first element contains the total value of the cryptocurrency wallet. The second element contains the total value of the stock and bond portions of the portfolio."
   ]
  },
  {
   "cell_type": "code",
   "execution_count": 24,
   "metadata": {},
   "outputs": [
    {
     "data": {
      "text/plain": [
       "[54676.343, 60689.5]"
      ]
     },
     "execution_count": 24,
     "metadata": {},
     "output_type": "execute_result"
    }
   ],
   "source": [
    "# Consolidate financial assets data into a Python list\n",
    "savings_data = [total_crypto_wallet, total_stocks_bonds]\n",
    "\n",
    "# Review the Python list savings_data\n",
    "savings_data"
   ]
  },
  {
   "cell_type": "markdown",
   "metadata": {},
   "source": [
    "#### Step 2: Use the `savings_data` list to create a Pandas DataFrame named `savings_df`, and then display this DataFrame. The function to create the DataFrame should take the following three parameters:\n",
    "\n",
    "- `savings_data`: Use the list that you just created.\n",
    "\n",
    "- `columns`: Set this parameter equal to a Python list with a single value called `amount`.\n",
    "\n",
    "- `index`: Set this parameter equal to a Python list with the values of `crypto` and `stock/bond`.\n"
   ]
  },
  {
   "cell_type": "code",
   "execution_count": 25,
   "metadata": {},
   "outputs": [
    {
     "data": {
      "text/html": [
       "<div>\n",
       "<style scoped>\n",
       "    .dataframe tbody tr th:only-of-type {\n",
       "        vertical-align: middle;\n",
       "    }\n",
       "\n",
       "    .dataframe tbody tr th {\n",
       "        vertical-align: top;\n",
       "    }\n",
       "\n",
       "    .dataframe thead th {\n",
       "        text-align: right;\n",
       "    }\n",
       "</style>\n",
       "<table border=\"1\" class=\"dataframe\">\n",
       "  <thead>\n",
       "    <tr style=\"text-align: right;\">\n",
       "      <th></th>\n",
       "      <th>amount</th>\n",
       "    </tr>\n",
       "  </thead>\n",
       "  <tbody>\n",
       "    <tr>\n",
       "      <th>crypto</th>\n",
       "      <td>54676.343</td>\n",
       "    </tr>\n",
       "    <tr>\n",
       "      <th>stock/bond</th>\n",
       "      <td>60689.500</td>\n",
       "    </tr>\n",
       "  </tbody>\n",
       "</table>\n",
       "</div>"
      ],
      "text/plain": [
       "               amount\n",
       "crypto      54676.343\n",
       "stock/bond  60689.500"
      ]
     },
     "execution_count": 25,
     "metadata": {},
     "output_type": "execute_result"
    }
   ],
   "source": [
    "# Create a Pandas DataFrame called savings_df \n",
    "savings_df = pd.DataFrame(\n",
    "    data=savings_data,\n",
    "    columns=['amount'],\n",
    "    index=['crypto', 'stock/bond']\n",
    ")\n",
    "# Display the savings_df DataFrame\n",
    "savings_df"
   ]
  },
  {
   "cell_type": "markdown",
   "metadata": {},
   "source": [
    "#### Step 3: Use the `savings_df` DataFrame to plot a pie chart that visualizes the composition of the member’s portfolio. The y-axis of the pie chart uses `amount`. Be sure to add a title."
   ]
  },
  {
   "cell_type": "code",
   "execution_count": 26,
   "metadata": {},
   "outputs": [
    {
     "data": {
      "text/plain": [
       "<AxesSubplot:title={'center':'Portfolio Composition'}, ylabel='amount'>"
      ]
     },
     "execution_count": 26,
     "metadata": {},
     "output_type": "execute_result"
    },
    {
     "data": {
      "image/png": "[encoded data removed]",
      "text/plain": [
       "<Figure size 432x432 with 1 Axes>"
      ]
     },
     "metadata": {},
     "output_type": "display_data"
    }
   ],
   "source": [
    "# Plot the total value of the member's portfolio (crypto and stock/bond) in a pie chart\n",
    "savings_df.plot.pie(y='amount', title='Portfolio Composition', figsize=(6,6))\n"
   ]
  },
  {
   "cell_type": "markdown",
   "metadata": {},
   "source": [
    "#### Step 4: Using Python, determine if the current portfolio has enough to create an emergency fund as part of the member’s financial plan. Ideally, an emergency fund should equal to three times the member’s monthly income. To do this, implement the following steps:\n",
    "\n",
    "Step 1. Create a variable named `emergency_fund_value`, and set it equal to three times the value of the member’s `monthly_income` of 12000. (You set this earlier in Part 1).\n",
    "\n",
    "Step 2. Create a series of three if statements to determine if the member’s total portfolio is large enough to fund the emergency portfolio:\n",
    "\n",
    "* If the total portfolio value is greater than the emergency fund value, display a message congratulating the member for having enough money in this fund.\n",
    "\n",
    "* Else if the total portfolio value is equal to the emergency fund value, display a message congratulating the member on reaching this important financial goal.\n",
    "\n",
    "* Else the total portfolio is less than the emergency fund value, so display a message showing how many dollars away the member is from reaching the goal. (Subtract the total portfolio value from the emergency fund value.)\n"
   ]
  },
  {
   "cell_type": "markdown",
   "metadata": {},
   "source": [
    "##### Step 4-1: Create a variable named `emergency_fund_value`, and set it equal to three times the value of the member’s `monthly_income` of 12000. (You set this earlier in Part 1)."
   ]
  },
  {
   "cell_type": "code",
   "execution_count": 27,
   "metadata": {},
   "outputs": [],
   "source": [
    "# Create a variable named emergency_fund_value\n",
    "emergency_fund_value = 3 * monthly_income"
   ]
  },
  {
   "cell_type": "code",
   "execution_count": 28,
   "metadata": {},
   "outputs": [
    {
     "data": {
      "text/plain": [
       "36000"
      ]
     },
     "execution_count": 28,
     "metadata": {},
     "output_type": "execute_result"
    }
   ],
   "source": [
    "emergency_fund_value"
   ]
  },
  {
   "cell_type": "code",
   "execution_count": 29,
   "metadata": {},
   "outputs": [
    {
     "data": {
      "text/plain": [
       "115365.843"
      ]
     },
     "execution_count": 29,
     "metadata": {},
     "output_type": "execute_result"
    }
   ],
   "source": [
    "total_portfolio"
   ]
  },
  {
   "cell_type": "markdown",
   "metadata": {},
   "source": [
    "##### Step 4-2: Create a series of three if statements to determine if the member’s total portfolio is large enough to fund the emergency portfolio:\n",
    "\n",
    "* If the total portfolio value is greater than the emergency fund value, display a message congratulating the member for having enough money in this fund.\n",
    "\n",
    "* Else if the total portfolio value is equal to the emergency fund value, display a message congratulating the member on reaching this important financial goal.\n",
    "\n",
    "* Else the total portfolio is less than the emergency fund value, so display a message showing how many dollars away the member is from reaching the goal. (Subtract the total portfolio value from the emergency fund value.)"
   ]
  },
  {
   "cell_type": "code",
   "execution_count": 30,
   "metadata": {},
   "outputs": [
    {
     "name": "stdout",
     "output_type": "stream",
     "text": [
      "Congratulations, you have enough money in this fund\n"
     ]
    }
   ],
   "source": [
    "# Evaluate the possibility of creating an emergency fund with 3 conditions:\n",
    "short = emergency_fund_value - total_portfolio\n",
    "\n",
    "if (total_portfolio > emergency_fund_value):\n",
    "    print(\"Congratulations, you have enough money in this fund\")\n",
    "elif (total_portfolio == emergency_fund_value):\n",
    "    print(\"Congratulations for reaching important finanical goal\")\n",
    "else: \n",
    "    print(f\"You are {short} away from reaching your goal\")"
   ]
  },
  {
   "cell_type": "markdown",
   "metadata": {},
   "source": [
    "## Part 2: Create a Financial Planner for Retirement"
   ]
  },
  {
   "cell_type": "markdown",
   "metadata": {},
   "source": [
    "### Create the Monte Carlo Simulation\n",
    "\n",
    "In this section, you’ll use the MCForecastTools library to create a Monte Carlo simulation for the member’s savings portfolio. To do this, complete the following steps:\n",
    "\n",
    "1. Make an API call via the Alpaca SDK to get 10 years of historical closing prices for a traditional 60/40 portfolio split: 60% stocks (SPY) and 40% bonds (AGG).\n",
    "\n",
    "2. Run a Monte Carlo simulation of 500 samples and 30 years for the 60/40 portfolio, and then plot the results.The following image shows the overlay line plot resulting from a simulation with these characteristics. However, because a random number generator is used to run each live Monte Carlo simulation, your image will differ slightly from this exact image:\n",
    "\n",
    "![A screenshot depicts the resulting plot.](Images/5-4-monte-carlo-line-plot.png)\n",
    "\n",
    "3. Plot the probability distribution of the Monte Carlo simulation. Plot the probability distribution of the Monte Carlo simulation. The following image shows the histogram plot resulting from a simulation with these characteristics. However, because a random number generator is used to run each live Monte Carlo simulation, your image will differ slightly from this exact image:\n",
    "\n",
    "![A screenshot depicts the histogram plot.](Images/5-4-monte-carlo-histogram.png)\n",
    "\n",
    "4. Generate the summary statistics for the Monte Carlo simulation.\n",
    "\n"
   ]
  },
  {
   "cell_type": "markdown",
   "metadata": {},
   "source": [
    "#### Step 1: Make an API call via the Alpaca SDK to get 10 years of historical closing prices for a traditional 60/40 portfolio split: 60% stocks (SPY) and 40% bonds (AGG)."
   ]
  },
  {
   "cell_type": "code",
   "execution_count": 31,
   "metadata": {},
   "outputs": [
    {
     "data": {
      "text/plain": [
       "('2021-02-07', '2011-02-10')"
      ]
     },
     "execution_count": 31,
     "metadata": {},
     "output_type": "execute_result"
    }
   ],
   "source": [
    "# Set start and end dates of 10 years back from your current date\n",
    "# Alternatively, you can use an end date of 2020-08-07 and work 10 years back from that date \n",
    "today_date = str(datetime.datetime.now()).split()[0]\n",
    "ten_year_ago = str(datetime.datetime.now() - datetime.timedelta(days=10*365)).split()[0]\n",
    "\n",
    "today_date, ten_year_ago"
   ]
  },
  {
   "cell_type": "code",
   "execution_count": 32,
   "metadata": {},
   "outputs": [
    {
     "data": {
      "text/html": [
       "<div>\n",
       "<style scoped>\n",
       "    .dataframe tbody tr th:only-of-type {\n",
       "        vertical-align: middle;\n",
       "    }\n",
       "\n",
       "    .dataframe tbody tr th {\n",
       "        vertical-align: top;\n",
       "    }\n",
       "\n",
       "    .dataframe thead tr th {\n",
       "        text-align: left;\n",
       "    }\n",
       "\n",
       "    .dataframe thead tr:last-of-type th {\n",
       "        text-align: right;\n",
       "    }\n",
       "</style>\n",
       "<table border=\"1\" class=\"dataframe\">\n",
       "  <thead>\n",
       "    <tr>\n",
       "      <th></th>\n",
       "      <th colspan=\"5\" halign=\"left\">AGG</th>\n",
       "      <th colspan=\"5\" halign=\"left\">SPY</th>\n",
       "    </tr>\n",
       "    <tr>\n",
       "      <th></th>\n",
       "      <th>open</th>\n",
       "      <th>high</th>\n",
       "      <th>low</th>\n",
       "      <th>close</th>\n",
       "      <th>volume</th>\n",
       "      <th>open</th>\n",
       "      <th>high</th>\n",
       "      <th>low</th>\n",
       "      <th>close</th>\n",
       "      <th>volume</th>\n",
       "    </tr>\n",
       "    <tr>\n",
       "      <th>time</th>\n",
       "      <th></th>\n",
       "      <th></th>\n",
       "      <th></th>\n",
       "      <th></th>\n",
       "      <th></th>\n",
       "      <th></th>\n",
       "      <th></th>\n",
       "      <th></th>\n",
       "      <th></th>\n",
       "      <th></th>\n",
       "    </tr>\n",
       "  </thead>\n",
       "  <tbody>\n",
       "    <tr>\n",
       "      <th>2020-09-15 00:00:00-04:00</th>\n",
       "      <td>118.2900</td>\n",
       "      <td>118.425</td>\n",
       "      <td>118.29</td>\n",
       "      <td>118.38</td>\n",
       "      <td>3635547</td>\n",
       "      <td>341.12</td>\n",
       "      <td>342.0200</td>\n",
       "      <td>338.4683</td>\n",
       "      <td>340.15</td>\n",
       "      <td>43980284</td>\n",
       "    </tr>\n",
       "    <tr>\n",
       "      <th>2020-09-16 00:00:00-04:00</th>\n",
       "      <td>118.5300</td>\n",
       "      <td>118.530</td>\n",
       "      <td>118.20</td>\n",
       "      <td>118.32</td>\n",
       "      <td>5190572</td>\n",
       "      <td>341.51</td>\n",
       "      <td>343.0600</td>\n",
       "      <td>338.5200</td>\n",
       "      <td>338.81</td>\n",
       "      <td>70521698</td>\n",
       "    </tr>\n",
       "    <tr>\n",
       "      <th>2020-09-17 00:00:00-04:00</th>\n",
       "      <td>118.4201</td>\n",
       "      <td>118.520</td>\n",
       "      <td>118.33</td>\n",
       "      <td>118.36</td>\n",
       "      <td>4263541</td>\n",
       "      <td>333.56</td>\n",
       "      <td>337.6996</td>\n",
       "      <td>332.9910</td>\n",
       "      <td>335.86</td>\n",
       "      <td>80778657</td>\n",
       "    </tr>\n",
       "    <tr>\n",
       "      <th>2020-09-18 00:00:00-04:00</th>\n",
       "      <td>118.3900</td>\n",
       "      <td>118.440</td>\n",
       "      <td>118.18</td>\n",
       "      <td>118.24</td>\n",
       "      <td>4548578</td>\n",
       "      <td>335.37</td>\n",
       "      <td>335.4900</td>\n",
       "      <td>327.9700</td>\n",
       "      <td>330.69</td>\n",
       "      <td>88780313</td>\n",
       "    </tr>\n",
       "    <tr>\n",
       "      <th>2020-09-21 00:00:00-04:00</th>\n",
       "      <td>118.4100</td>\n",
       "      <td>118.420</td>\n",
       "      <td>118.25</td>\n",
       "      <td>118.26</td>\n",
       "      <td>4787684</td>\n",
       "      <td>325.70</td>\n",
       "      <td>327.0900</td>\n",
       "      <td>321.7300</td>\n",
       "      <td>327.00</td>\n",
       "      <td>86591719</td>\n",
       "    </tr>\n",
       "  </tbody>\n",
       "</table>\n",
       "</div>"
      ],
      "text/plain": [
       "                                AGG                                       SPY  \\\n",
       "                               open     high     low   close   volume    open   \n",
       "time                                                                            \n",
       "2020-09-15 00:00:00-04:00  118.2900  118.425  118.29  118.38  3635547  341.12   \n",
       "2020-09-16 00:00:00-04:00  118.5300  118.530  118.20  118.32  5190572  341.51   \n",
       "2020-09-17 00:00:00-04:00  118.4201  118.520  118.33  118.36  4263541  333.56   \n",
       "2020-09-18 00:00:00-04:00  118.3900  118.440  118.18  118.24  4548578  335.37   \n",
       "2020-09-21 00:00:00-04:00  118.4100  118.420  118.25  118.26  4787684  325.70   \n",
       "\n",
       "                                                                 \n",
       "                               high       low   close    volume  \n",
       "time                                                             \n",
       "2020-09-15 00:00:00-04:00  342.0200  338.4683  340.15  43980284  \n",
       "2020-09-16 00:00:00-04:00  343.0600  338.5200  338.81  70521698  \n",
       "2020-09-17 00:00:00-04:00  337.6996  332.9910  335.86  80778657  \n",
       "2020-09-18 00:00:00-04:00  335.4900  327.9700  330.69  88780313  \n",
       "2020-09-21 00:00:00-04:00  327.0900  321.7300  327.00  86591719  "
      ]
     },
     "metadata": {},
     "output_type": "display_data"
    },
    {
     "data": {
      "text/html": [
       "<div>\n",
       "<style scoped>\n",
       "    .dataframe tbody tr th:only-of-type {\n",
       "        vertical-align: middle;\n",
       "    }\n",
       "\n",
       "    .dataframe tbody tr th {\n",
       "        vertical-align: top;\n",
       "    }\n",
       "\n",
       "    .dataframe thead tr th {\n",
       "        text-align: left;\n",
       "    }\n",
       "\n",
       "    .dataframe thead tr:last-of-type th {\n",
       "        text-align: right;\n",
       "    }\n",
       "</style>\n",
       "<table border=\"1\" class=\"dataframe\">\n",
       "  <thead>\n",
       "    <tr>\n",
       "      <th></th>\n",
       "      <th colspan=\"5\" halign=\"left\">AGG</th>\n",
       "      <th colspan=\"5\" halign=\"left\">SPY</th>\n",
       "    </tr>\n",
       "    <tr>\n",
       "      <th></th>\n",
       "      <th>open</th>\n",
       "      <th>high</th>\n",
       "      <th>low</th>\n",
       "      <th>close</th>\n",
       "      <th>volume</th>\n",
       "      <th>open</th>\n",
       "      <th>high</th>\n",
       "      <th>low</th>\n",
       "      <th>close</th>\n",
       "      <th>volume</th>\n",
       "    </tr>\n",
       "    <tr>\n",
       "      <th>time</th>\n",
       "      <th></th>\n",
       "      <th></th>\n",
       "      <th></th>\n",
       "      <th></th>\n",
       "      <th></th>\n",
       "      <th></th>\n",
       "      <th></th>\n",
       "      <th></th>\n",
       "      <th></th>\n",
       "      <th></th>\n",
       "    </tr>\n",
       "  </thead>\n",
       "  <tbody>\n",
       "    <tr>\n",
       "      <th>2021-02-01 00:00:00-05:00</th>\n",
       "      <td>117.20</td>\n",
       "      <td>117.26</td>\n",
       "      <td>117.0915</td>\n",
       "      <td>117.21</td>\n",
       "      <td>5469814</td>\n",
       "      <td>373.720</td>\n",
       "      <td>377.34</td>\n",
       "      <td>370.3760</td>\n",
       "      <td>376.18</td>\n",
       "      <td>64056510</td>\n",
       "    </tr>\n",
       "    <tr>\n",
       "      <th>2021-02-02 00:00:00-05:00</th>\n",
       "      <td>116.99</td>\n",
       "      <td>117.09</td>\n",
       "      <td>116.9700</td>\n",
       "      <td>117.05</td>\n",
       "      <td>4694446</td>\n",
       "      <td>379.650</td>\n",
       "      <td>383.22</td>\n",
       "      <td>376.3181</td>\n",
       "      <td>381.54</td>\n",
       "      <td>53979346</td>\n",
       "    </tr>\n",
       "    <tr>\n",
       "      <th>2021-02-03 00:00:00-05:00</th>\n",
       "      <td>116.97</td>\n",
       "      <td>116.99</td>\n",
       "      <td>116.8700</td>\n",
       "      <td>116.89</td>\n",
       "      <td>5060310</td>\n",
       "      <td>382.435</td>\n",
       "      <td>383.70</td>\n",
       "      <td>380.4800</td>\n",
       "      <td>381.86</td>\n",
       "      <td>43305661</td>\n",
       "    </tr>\n",
       "    <tr>\n",
       "      <th>2021-02-04 00:00:00-05:00</th>\n",
       "      <td>116.75</td>\n",
       "      <td>116.89</td>\n",
       "      <td>116.6900</td>\n",
       "      <td>116.86</td>\n",
       "      <td>5128808</td>\n",
       "      <td>382.960</td>\n",
       "      <td>386.24</td>\n",
       "      <td>381.9655</td>\n",
       "      <td>386.17</td>\n",
       "      <td>40030930</td>\n",
       "    </tr>\n",
       "    <tr>\n",
       "      <th>2021-02-05 00:00:00-05:00</th>\n",
       "      <td>116.91</td>\n",
       "      <td>116.96</td>\n",
       "      <td>116.7000</td>\n",
       "      <td>116.72</td>\n",
       "      <td>3230833</td>\n",
       "      <td>388.200</td>\n",
       "      <td>388.47</td>\n",
       "      <td>386.1444</td>\n",
       "      <td>387.68</td>\n",
       "      <td>39312522</td>\n",
       "    </tr>\n",
       "  </tbody>\n",
       "</table>\n",
       "</div>"
      ],
      "text/plain": [
       "                              AGG                                         SPY  \\\n",
       "                             open    high       low   close   volume     open   \n",
       "time                                                                            \n",
       "2021-02-01 00:00:00-05:00  117.20  117.26  117.0915  117.21  5469814  373.720   \n",
       "2021-02-02 00:00:00-05:00  116.99  117.09  116.9700  117.05  4694446  379.650   \n",
       "2021-02-03 00:00:00-05:00  116.97  116.99  116.8700  116.89  5060310  382.435   \n",
       "2021-02-04 00:00:00-05:00  116.75  116.89  116.6900  116.86  5128808  382.960   \n",
       "2021-02-05 00:00:00-05:00  116.91  116.96  116.7000  116.72  3230833  388.200   \n",
       "\n",
       "                                                               \n",
       "                             high       low   close    volume  \n",
       "time                                                           \n",
       "2021-02-01 00:00:00-05:00  377.34  370.3760  376.18  64056510  \n",
       "2021-02-02 00:00:00-05:00  383.22  376.3181  381.54  53979346  \n",
       "2021-02-03 00:00:00-05:00  383.70  380.4800  381.86  43305661  \n",
       "2021-02-04 00:00:00-05:00  386.24  381.9655  386.17  40030930  \n",
       "2021-02-05 00:00:00-05:00  388.47  386.1444  387.68  39312522  "
      ]
     },
     "metadata": {},
     "output_type": "display_data"
    }
   ],
   "source": [
    "# Use the Alpaca get_barset function to make the API call to get the 10 years worth of pricing data\n",
    "# The tickers and timeframe parameters should have been set in Part 1 of this activity \n",
    "# The start and end dates should be updated with the information set above\n",
    "# Remember to add the df property to the end of the call so the response is returned as a DataFrame\n",
    "historical_pricing_df = alpaca.get_barset(\n",
    "    tickers,\n",
    "    timeframe,\n",
    "    start=ten_year_ago,\n",
    "    end=today_date\n",
    ").df\n",
    "\n",
    "\n",
    "# Display both the first and last five rows of the DataFrame\n",
    "display(historical_pricing_df.head(5))\n",
    "display(historical_pricing_df.tail(5))"
   ]
  },
  {
   "cell_type": "markdown",
   "metadata": {},
   "source": [
    "#### Step 2: Run a Monte Carlo simulation of 500 samples and 30 years for the 60/40 portfolio, and then plot the results."
   ]
  },
  {
   "cell_type": "code",
   "execution_count": 33,
   "metadata": {},
   "outputs": [
    {
     "data": {
      "text/html": [
       "<div>\n",
       "<style scoped>\n",
       "    .dataframe tbody tr th:only-of-type {\n",
       "        vertical-align: middle;\n",
       "    }\n",
       "\n",
       "    .dataframe tbody tr th {\n",
       "        vertical-align: top;\n",
       "    }\n",
       "\n",
       "    .dataframe thead tr th {\n",
       "        text-align: left;\n",
       "    }\n",
       "\n",
       "    .dataframe thead tr:last-of-type th {\n",
       "        text-align: right;\n",
       "    }\n",
       "</style>\n",
       "<table border=\"1\" class=\"dataframe\">\n",
       "  <thead>\n",
       "    <tr>\n",
       "      <th></th>\n",
       "      <th colspan=\"6\" halign=\"left\">AGG</th>\n",
       "      <th colspan=\"6\" halign=\"left\">SPY</th>\n",
       "    </tr>\n",
       "    <tr>\n",
       "      <th></th>\n",
       "      <th>open</th>\n",
       "      <th>high</th>\n",
       "      <th>low</th>\n",
       "      <th>close</th>\n",
       "      <th>volume</th>\n",
       "      <th>daily_return</th>\n",
       "      <th>open</th>\n",
       "      <th>high</th>\n",
       "      <th>low</th>\n",
       "      <th>close</th>\n",
       "      <th>volume</th>\n",
       "      <th>daily_return</th>\n",
       "    </tr>\n",
       "    <tr>\n",
       "      <th>time</th>\n",
       "      <th></th>\n",
       "      <th></th>\n",
       "      <th></th>\n",
       "      <th></th>\n",
       "      <th></th>\n",
       "      <th></th>\n",
       "      <th></th>\n",
       "      <th></th>\n",
       "      <th></th>\n",
       "      <th></th>\n",
       "      <th></th>\n",
       "      <th></th>\n",
       "    </tr>\n",
       "  </thead>\n",
       "  <tbody>\n",
       "    <tr>\n",
       "      <th>2020-09-15 00:00:00-04:00</th>\n",
       "      <td>118.2900</td>\n",
       "      <td>118.425</td>\n",
       "      <td>118.29</td>\n",
       "      <td>118.38</td>\n",
       "      <td>3635547</td>\n",
       "      <td>NaN</td>\n",
       "      <td>341.12</td>\n",
       "      <td>342.0200</td>\n",
       "      <td>338.4683</td>\n",
       "      <td>340.15</td>\n",
       "      <td>43980284</td>\n",
       "      <td>NaN</td>\n",
       "    </tr>\n",
       "    <tr>\n",
       "      <th>2020-09-16 00:00:00-04:00</th>\n",
       "      <td>118.5300</td>\n",
       "      <td>118.530</td>\n",
       "      <td>118.20</td>\n",
       "      <td>118.32</td>\n",
       "      <td>5190572</td>\n",
       "      <td>-0.000507</td>\n",
       "      <td>341.51</td>\n",
       "      <td>343.0600</td>\n",
       "      <td>338.5200</td>\n",
       "      <td>338.81</td>\n",
       "      <td>70521698</td>\n",
       "      <td>-0.003939</td>\n",
       "    </tr>\n",
       "    <tr>\n",
       "      <th>2020-09-17 00:00:00-04:00</th>\n",
       "      <td>118.4201</td>\n",
       "      <td>118.520</td>\n",
       "      <td>118.33</td>\n",
       "      <td>118.36</td>\n",
       "      <td>4263541</td>\n",
       "      <td>0.000338</td>\n",
       "      <td>333.56</td>\n",
       "      <td>337.6996</td>\n",
       "      <td>332.9910</td>\n",
       "      <td>335.86</td>\n",
       "      <td>80778657</td>\n",
       "      <td>-0.008707</td>\n",
       "    </tr>\n",
       "    <tr>\n",
       "      <th>2020-09-18 00:00:00-04:00</th>\n",
       "      <td>118.3900</td>\n",
       "      <td>118.440</td>\n",
       "      <td>118.18</td>\n",
       "      <td>118.24</td>\n",
       "      <td>4548578</td>\n",
       "      <td>-0.001014</td>\n",
       "      <td>335.37</td>\n",
       "      <td>335.4900</td>\n",
       "      <td>327.9700</td>\n",
       "      <td>330.69</td>\n",
       "      <td>88780313</td>\n",
       "      <td>-0.015393</td>\n",
       "    </tr>\n",
       "    <tr>\n",
       "      <th>2020-09-21 00:00:00-04:00</th>\n",
       "      <td>118.4100</td>\n",
       "      <td>118.420</td>\n",
       "      <td>118.25</td>\n",
       "      <td>118.26</td>\n",
       "      <td>4787684</td>\n",
       "      <td>0.000169</td>\n",
       "      <td>325.70</td>\n",
       "      <td>327.0900</td>\n",
       "      <td>321.7300</td>\n",
       "      <td>327.00</td>\n",
       "      <td>86591719</td>\n",
       "      <td>-0.011158</td>\n",
       "    </tr>\n",
       "  </tbody>\n",
       "</table>\n",
       "</div>"
      ],
      "text/plain": [
       "                                AGG                                    \\\n",
       "                               open     high     low   close   volume   \n",
       "time                                                                    \n",
       "2020-09-15 00:00:00-04:00  118.2900  118.425  118.29  118.38  3635547   \n",
       "2020-09-16 00:00:00-04:00  118.5300  118.530  118.20  118.32  5190572   \n",
       "2020-09-17 00:00:00-04:00  118.4201  118.520  118.33  118.36  4263541   \n",
       "2020-09-18 00:00:00-04:00  118.3900  118.440  118.18  118.24  4548578   \n",
       "2020-09-21 00:00:00-04:00  118.4100  118.420  118.25  118.26  4787684   \n",
       "\n",
       "                                           SPY                              \\\n",
       "                          daily_return    open      high       low   close   \n",
       "time                                                                         \n",
       "2020-09-15 00:00:00-04:00          NaN  341.12  342.0200  338.4683  340.15   \n",
       "2020-09-16 00:00:00-04:00    -0.000507  341.51  343.0600  338.5200  338.81   \n",
       "2020-09-17 00:00:00-04:00     0.000338  333.56  337.6996  332.9910  335.86   \n",
       "2020-09-18 00:00:00-04:00    -0.001014  335.37  335.4900  327.9700  330.69   \n",
       "2020-09-21 00:00:00-04:00     0.000169  325.70  327.0900  321.7300  327.00   \n",
       "\n",
       "                                                  \n",
       "                             volume daily_return  \n",
       "time                                              \n",
       "2020-09-15 00:00:00-04:00  43980284          NaN  \n",
       "2020-09-16 00:00:00-04:00  70521698    -0.003939  \n",
       "2020-09-17 00:00:00-04:00  80778657    -0.008707  \n",
       "2020-09-18 00:00:00-04:00  88780313    -0.015393  \n",
       "2020-09-21 00:00:00-04:00  86591719    -0.011158  "
      ]
     },
     "execution_count": 33,
     "metadata": {},
     "output_type": "execute_result"
    }
   ],
   "source": [
    "# Configure the Monte Carlo simulation to forecast 30 years cumulative returns\n",
    "# The weights should be split 40% to AGG and 60% to SPY.\n",
    "# Run 500 samples.\n",
    "thirty_year_simulation = MCSimulation(\n",
    "    portfolio_data=historical_pricing_df,\n",
    "    weights=[0.60, 0.40],\n",
    "    num_simulation=500,\n",
    "    num_trading_days=252*30,\n",
    ")\n",
    "\n",
    "# Review the simulation input data\n",
    "# YOUR CODE HERE\n",
    "thirty_year_simulation.portfolio_data.head()"
   ]
  },
  {
   "cell_type": "code",
   "execution_count": 34,
   "metadata": {},
   "outputs": [
    {
     "name": "stdout",
     "output_type": "stream",
     "text": [
      "Running Monte Carlo simulation number 0.\n",
      "Running Monte Carlo simulation number 10.\n",
      "Running Monte Carlo simulation number 20.\n",
      "Running Monte Carlo simulation number 30.\n",
      "Running Monte Carlo simulation number 40.\n",
      "Running Monte Carlo simulation number 50.\n",
      "Running Monte Carlo simulation number 60.\n",
      "Running Monte Carlo simulation number 70.\n",
      "Running Monte Carlo simulation number 80.\n",
      "Running Monte Carlo simulation number 90.\n",
      "Running Monte Carlo simulation number 100.\n",
      "Running Monte Carlo simulation number 110.\n",
      "Running Monte Carlo simulation number 120.\n",
      "Running Monte Carlo simulation number 130.\n",
      "Running Monte Carlo simulation number 140.\n",
      "Running Monte Carlo simulation number 150.\n",
      "Running Monte Carlo simulation number 160.\n",
      "Running Monte Carlo simulation number 170.\n",
      "Running Monte Carlo simulation number 180.\n",
      "Running Monte Carlo simulation number 190.\n",
      "Running Monte Carlo simulation number 200.\n",
      "Running Monte Carlo simulation number 210.\n",
      "Running Monte Carlo simulation number 220.\n",
      "Running Monte Carlo simulation number 230.\n",
      "Running Monte Carlo simulation number 240.\n",
      "Running Monte Carlo simulation number 250.\n",
      "Running Monte Carlo simulation number 260.\n",
      "Running Monte Carlo simulation number 270.\n",
      "Running Monte Carlo simulation number 280.\n",
      "Running Monte Carlo simulation number 290.\n",
      "Running Monte Carlo simulation number 300.\n",
      "Running Monte Carlo simulation number 310.\n",
      "Running Monte Carlo simulation number 320.\n",
      "Running Monte Carlo simulation number 330.\n",
      "Running Monte Carlo simulation number 340.\n",
      "Running Monte Carlo simulation number 350.\n",
      "Running Monte Carlo simulation number 360.\n",
      "Running Monte Carlo simulation number 370.\n",
      "Running Monte Carlo simulation number 380.\n",
      "Running Monte Carlo simulation number 390.\n",
      "Running Monte Carlo simulation number 400.\n",
      "Running Monte Carlo simulation number 410.\n",
      "Running Monte Carlo simulation number 420.\n",
      "Running Monte Carlo simulation number 430.\n",
      "Running Monte Carlo simulation number 440.\n",
      "Running Monte Carlo simulation number 450.\n",
      "Running Monte Carlo simulation number 460.\n",
      "Running Monte Carlo simulation number 470.\n",
      "Running Monte Carlo simulation number 480.\n",
      "Running Monte Carlo simulation number 490.\n"
     ]
    },
    {
     "data": {
      "text/html": [
       "<div>\n",
       "<style scoped>\n",
       "    .dataframe tbody tr th:only-of-type {\n",
       "        vertical-align: middle;\n",
       "    }\n",
       "\n",
       "    .dataframe tbody tr th {\n",
       "        vertical-align: top;\n",
       "    }\n",
       "\n",
       "    .dataframe thead th {\n",
       "        text-align: right;\n",
       "    }\n",
       "</style>\n",
       "<table border=\"1\" class=\"dataframe\">\n",
       "  <thead>\n",
       "    <tr style=\"text-align: right;\">\n",
       "      <th></th>\n",
       "      <th>0</th>\n",
       "      <th>1</th>\n",
       "      <th>2</th>\n",
       "      <th>3</th>\n",
       "      <th>4</th>\n",
       "      <th>5</th>\n",
       "      <th>6</th>\n",
       "      <th>7</th>\n",
       "      <th>8</th>\n",
       "      <th>9</th>\n",
       "      <th>...</th>\n",
       "      <th>490</th>\n",
       "      <th>491</th>\n",
       "      <th>492</th>\n",
       "      <th>493</th>\n",
       "      <th>494</th>\n",
       "      <th>495</th>\n",
       "      <th>496</th>\n",
       "      <th>497</th>\n",
       "      <th>498</th>\n",
       "      <th>499</th>\n",
       "    </tr>\n",
       "  </thead>\n",
       "  <tbody>\n",
       "    <tr>\n",
       "      <th>0</th>\n",
       "      <td>1.000000</td>\n",
       "      <td>1.000000</td>\n",
       "      <td>1.000000</td>\n",
       "      <td>1.000000</td>\n",
       "      <td>1.000000</td>\n",
       "      <td>1.000000</td>\n",
       "      <td>1.000000</td>\n",
       "      <td>1.000000</td>\n",
       "      <td>1.000000</td>\n",
       "      <td>1.000000</td>\n",
       "      <td>...</td>\n",
       "      <td>1.000000</td>\n",
       "      <td>1.000000</td>\n",
       "      <td>1.000000</td>\n",
       "      <td>1.000000</td>\n",
       "      <td>1.000000</td>\n",
       "      <td>1.000000</td>\n",
       "      <td>1.000000</td>\n",
       "      <td>1.000000</td>\n",
       "      <td>1.000000</td>\n",
       "      <td>1.000000</td>\n",
       "    </tr>\n",
       "    <tr>\n",
       "      <th>1</th>\n",
       "      <td>0.998126</td>\n",
       "      <td>1.003636</td>\n",
       "      <td>0.995170</td>\n",
       "      <td>0.996366</td>\n",
       "      <td>1.007211</td>\n",
       "      <td>0.995781</td>\n",
       "      <td>1.001264</td>\n",
       "      <td>1.002589</td>\n",
       "      <td>0.999463</td>\n",
       "      <td>0.999859</td>\n",
       "      <td>...</td>\n",
       "      <td>1.001083</td>\n",
       "      <td>1.000989</td>\n",
       "      <td>0.998526</td>\n",
       "      <td>1.000918</td>\n",
       "      <td>0.997999</td>\n",
       "      <td>1.004422</td>\n",
       "      <td>1.005442</td>\n",
       "      <td>1.005264</td>\n",
       "      <td>1.015142</td>\n",
       "      <td>1.000996</td>\n",
       "    </tr>\n",
       "    <tr>\n",
       "      <th>2</th>\n",
       "      <td>1.005353</td>\n",
       "      <td>1.010591</td>\n",
       "      <td>1.002142</td>\n",
       "      <td>1.000822</td>\n",
       "      <td>1.012036</td>\n",
       "      <td>0.998474</td>\n",
       "      <td>0.996947</td>\n",
       "      <td>1.001958</td>\n",
       "      <td>0.999798</td>\n",
       "      <td>1.005588</td>\n",
       "      <td>...</td>\n",
       "      <td>0.999185</td>\n",
       "      <td>1.001746</td>\n",
       "      <td>1.002986</td>\n",
       "      <td>0.996791</td>\n",
       "      <td>0.999939</td>\n",
       "      <td>1.005006</td>\n",
       "      <td>1.006933</td>\n",
       "      <td>1.002934</td>\n",
       "      <td>1.018145</td>\n",
       "      <td>1.008117</td>\n",
       "    </tr>\n",
       "    <tr>\n",
       "      <th>3</th>\n",
       "      <td>0.999401</td>\n",
       "      <td>1.014848</td>\n",
       "      <td>1.002161</td>\n",
       "      <td>0.998894</td>\n",
       "      <td>1.012183</td>\n",
       "      <td>1.000300</td>\n",
       "      <td>0.997444</td>\n",
       "      <td>0.994257</td>\n",
       "      <td>0.997411</td>\n",
       "      <td>1.014471</td>\n",
       "      <td>...</td>\n",
       "      <td>0.999720</td>\n",
       "      <td>1.000692</td>\n",
       "      <td>1.012847</td>\n",
       "      <td>0.994200</td>\n",
       "      <td>0.996315</td>\n",
       "      <td>1.012564</td>\n",
       "      <td>1.008113</td>\n",
       "      <td>1.001928</td>\n",
       "      <td>1.014576</td>\n",
       "      <td>1.007604</td>\n",
       "    </tr>\n",
       "    <tr>\n",
       "      <th>4</th>\n",
       "      <td>1.002826</td>\n",
       "      <td>1.012346</td>\n",
       "      <td>0.995946</td>\n",
       "      <td>1.008790</td>\n",
       "      <td>1.012235</td>\n",
       "      <td>1.005260</td>\n",
       "      <td>0.998852</td>\n",
       "      <td>0.998839</td>\n",
       "      <td>0.997499</td>\n",
       "      <td>1.002185</td>\n",
       "      <td>...</td>\n",
       "      <td>1.002392</td>\n",
       "      <td>1.004383</td>\n",
       "      <td>1.015649</td>\n",
       "      <td>0.990677</td>\n",
       "      <td>0.989781</td>\n",
       "      <td>1.020041</td>\n",
       "      <td>1.018732</td>\n",
       "      <td>1.009098</td>\n",
       "      <td>1.011186</td>\n",
       "      <td>1.004929</td>\n",
       "    </tr>\n",
       "    <tr>\n",
       "      <th>...</th>\n",
       "      <td>...</td>\n",
       "      <td>...</td>\n",
       "      <td>...</td>\n",
       "      <td>...</td>\n",
       "      <td>...</td>\n",
       "      <td>...</td>\n",
       "      <td>...</td>\n",
       "      <td>...</td>\n",
       "      <td>...</td>\n",
       "      <td>...</td>\n",
       "      <td>...</td>\n",
       "      <td>...</td>\n",
       "      <td>...</td>\n",
       "      <td>...</td>\n",
       "      <td>...</td>\n",
       "      <td>...</td>\n",
       "      <td>...</td>\n",
       "      <td>...</td>\n",
       "      <td>...</td>\n",
       "      <td>...</td>\n",
       "      <td>...</td>\n",
       "    </tr>\n",
       "    <tr>\n",
       "      <th>7556</th>\n",
       "      <td>17.973339</td>\n",
       "      <td>23.242313</td>\n",
       "      <td>31.267455</td>\n",
       "      <td>36.096045</td>\n",
       "      <td>23.909544</td>\n",
       "      <td>31.128983</td>\n",
       "      <td>22.809250</td>\n",
       "      <td>21.722271</td>\n",
       "      <td>26.304591</td>\n",
       "      <td>51.962931</td>\n",
       "      <td>...</td>\n",
       "      <td>29.501086</td>\n",
       "      <td>46.014329</td>\n",
       "      <td>16.537124</td>\n",
       "      <td>31.543427</td>\n",
       "      <td>22.646558</td>\n",
       "      <td>39.474141</td>\n",
       "      <td>22.873714</td>\n",
       "      <td>52.551347</td>\n",
       "      <td>31.915037</td>\n",
       "      <td>52.628934</td>\n",
       "    </tr>\n",
       "    <tr>\n",
       "      <th>7557</th>\n",
       "      <td>17.926804</td>\n",
       "      <td>23.322192</td>\n",
       "      <td>31.302944</td>\n",
       "      <td>36.369527</td>\n",
       "      <td>24.078115</td>\n",
       "      <td>31.203105</td>\n",
       "      <td>22.765513</td>\n",
       "      <td>21.701190</td>\n",
       "      <td>26.364390</td>\n",
       "      <td>52.146899</td>\n",
       "      <td>...</td>\n",
       "      <td>29.232480</td>\n",
       "      <td>46.240386</td>\n",
       "      <td>16.631374</td>\n",
       "      <td>31.583546</td>\n",
       "      <td>22.709709</td>\n",
       "      <td>39.753809</td>\n",
       "      <td>22.733212</td>\n",
       "      <td>52.945808</td>\n",
       "      <td>31.839034</td>\n",
       "      <td>52.479947</td>\n",
       "    </tr>\n",
       "    <tr>\n",
       "      <th>7558</th>\n",
       "      <td>17.897759</td>\n",
       "      <td>23.331014</td>\n",
       "      <td>31.398635</td>\n",
       "      <td>36.606309</td>\n",
       "      <td>24.084001</td>\n",
       "      <td>31.383649</td>\n",
       "      <td>22.798195</td>\n",
       "      <td>21.517525</td>\n",
       "      <td>26.311780</td>\n",
       "      <td>52.374277</td>\n",
       "      <td>...</td>\n",
       "      <td>29.221131</td>\n",
       "      <td>46.296465</td>\n",
       "      <td>16.566645</td>\n",
       "      <td>31.581636</td>\n",
       "      <td>22.686953</td>\n",
       "      <td>39.896287</td>\n",
       "      <td>22.779267</td>\n",
       "      <td>52.859695</td>\n",
       "      <td>31.787048</td>\n",
       "      <td>52.547068</td>\n",
       "    </tr>\n",
       "    <tr>\n",
       "      <th>7559</th>\n",
       "      <td>17.858551</td>\n",
       "      <td>23.497059</td>\n",
       "      <td>31.353281</td>\n",
       "      <td>36.463120</td>\n",
       "      <td>24.148176</td>\n",
       "      <td>31.475989</td>\n",
       "      <td>22.657038</td>\n",
       "      <td>21.374801</td>\n",
       "      <td>26.311624</td>\n",
       "      <td>52.478391</td>\n",
       "      <td>...</td>\n",
       "      <td>29.573153</td>\n",
       "      <td>46.599791</td>\n",
       "      <td>16.542000</td>\n",
       "      <td>31.533092</td>\n",
       "      <td>22.778740</td>\n",
       "      <td>39.740023</td>\n",
       "      <td>22.806243</td>\n",
       "      <td>52.552665</td>\n",
       "      <td>31.758926</td>\n",
       "      <td>52.348840</td>\n",
       "    </tr>\n",
       "    <tr>\n",
       "      <th>7560</th>\n",
       "      <td>17.867366</td>\n",
       "      <td>23.655767</td>\n",
       "      <td>31.356917</td>\n",
       "      <td>36.338779</td>\n",
       "      <td>24.254642</td>\n",
       "      <td>31.609894</td>\n",
       "      <td>22.687847</td>\n",
       "      <td>21.404098</td>\n",
       "      <td>26.374773</td>\n",
       "      <td>52.144378</td>\n",
       "      <td>...</td>\n",
       "      <td>29.535325</td>\n",
       "      <td>46.840977</td>\n",
       "      <td>16.476741</td>\n",
       "      <td>31.468474</td>\n",
       "      <td>22.771066</td>\n",
       "      <td>39.558057</td>\n",
       "      <td>22.634167</td>\n",
       "      <td>52.218768</td>\n",
       "      <td>31.796767</td>\n",
       "      <td>52.724557</td>\n",
       "    </tr>\n",
       "  </tbody>\n",
       "</table>\n",
       "<p>7561 rows × 500 columns</p>\n",
       "</div>"
      ],
      "text/plain": [
       "            0          1          2          3          4          5    \\\n",
       "0      1.000000   1.000000   1.000000   1.000000   1.000000   1.000000   \n",
       "1      0.998126   1.003636   0.995170   0.996366   1.007211   0.995781   \n",
       "2      1.005353   1.010591   1.002142   1.000822   1.012036   0.998474   \n",
       "3      0.999401   1.014848   1.002161   0.998894   1.012183   1.000300   \n",
       "4      1.002826   1.012346   0.995946   1.008790   1.012235   1.005260   \n",
       "...         ...        ...        ...        ...        ...        ...   \n",
       "7556  17.973339  23.242313  31.267455  36.096045  23.909544  31.128983   \n",
       "7557  17.926804  23.322192  31.302944  36.369527  24.078115  31.203105   \n",
       "7558  17.897759  23.331014  31.398635  36.606309  24.084001  31.383649   \n",
       "7559  17.858551  23.497059  31.353281  36.463120  24.148176  31.475989   \n",
       "7560  17.867366  23.655767  31.356917  36.338779  24.254642  31.609894   \n",
       "\n",
       "            6          7          8          9    ...        490        491  \\\n",
       "0      1.000000   1.000000   1.000000   1.000000  ...   1.000000   1.000000   \n",
       "1      1.001264   1.002589   0.999463   0.999859  ...   1.001083   1.000989   \n",
       "2      0.996947   1.001958   0.999798   1.005588  ...   0.999185   1.001746   \n",
       "3      0.997444   0.994257   0.997411   1.014471  ...   0.999720   1.000692   \n",
       "4      0.998852   0.998839   0.997499   1.002185  ...   1.002392   1.004383   \n",
       "...         ...        ...        ...        ...  ...        ...        ...   \n",
       "7556  22.809250  21.722271  26.304591  51.962931  ...  29.501086  46.014329   \n",
       "7557  22.765513  21.701190  26.364390  52.146899  ...  29.232480  46.240386   \n",
       "7558  22.798195  21.517525  26.311780  52.374277  ...  29.221131  46.296465   \n",
       "7559  22.657038  21.374801  26.311624  52.478391  ...  29.573153  46.599791   \n",
       "7560  22.687847  21.404098  26.374773  52.144378  ...  29.535325  46.840977   \n",
       "\n",
       "            492        493        494        495        496        497  \\\n",
       "0      1.000000   1.000000   1.000000   1.000000   1.000000   1.000000   \n",
       "1      0.998526   1.000918   0.997999   1.004422   1.005442   1.005264   \n",
       "2      1.002986   0.996791   0.999939   1.005006   1.006933   1.002934   \n",
       "3      1.012847   0.994200   0.996315   1.012564   1.008113   1.001928   \n",
       "4      1.015649   0.990677   0.989781   1.020041   1.018732   1.009098   \n",
       "...         ...        ...        ...        ...        ...        ...   \n",
       "7556  16.537124  31.543427  22.646558  39.474141  22.873714  52.551347   \n",
       "7557  16.631374  31.583546  22.709709  39.753809  22.733212  52.945808   \n",
       "7558  16.566645  31.581636  22.686953  39.896287  22.779267  52.859695   \n",
       "7559  16.542000  31.533092  22.778740  39.740023  22.806243  52.552665   \n",
       "7560  16.476741  31.468474  22.771066  39.558057  22.634167  52.218768   \n",
       "\n",
       "            498        499  \n",
       "0      1.000000   1.000000  \n",
       "1      1.015142   1.000996  \n",
       "2      1.018145   1.008117  \n",
       "3      1.014576   1.007604  \n",
       "4      1.011186   1.004929  \n",
       "...         ...        ...  \n",
       "7556  31.915037  52.628934  \n",
       "7557  31.839034  52.479947  \n",
       "7558  31.787048  52.547068  \n",
       "7559  31.758926  52.348840  \n",
       "7560  31.796767  52.724557  \n",
       "\n",
       "[7561 rows x 500 columns]"
      ]
     },
     "execution_count": 34,
     "metadata": {},
     "output_type": "execute_result"
    }
   ],
   "source": [
    "# Run the Monte Carlo simulation to forecast 30 years cumulative returns\n",
    "thirty_year_simulation.calc_cumulative_return()"
   ]
  },
  {
   "cell_type": "code",
   "execution_count": 35,
   "metadata": {},
   "outputs": [
    {
     "data": {
      "text/plain": [
       "<AxesSubplot:title={'center':'500 Simulations of Cumulative Portfolio Return Trajectories Over the Next 7560 Trading Days.'}>"
      ]
     },
     "execution_count": 35,
     "metadata": {},
     "output_type": "execute_result"
    },
    {
     "data": {
      "image/png": "[encoded data removed]",
      "text/plain": [
       "<Figure size 432x288 with 1 Axes>"
      ]
     },
     "metadata": {
      "needs_background": "light"
     },
     "output_type": "display_data"
    }
   ],
   "source": [
    "# Visualize the 30-year Monte Carlo simulation by creating an\n",
    "# overlay line plot\n",
    "thirty_year_simulation.plot_simulation()"
   ]
  },
  {
   "cell_type": "markdown",
   "metadata": {},
   "source": [
    "#### Step 3: Plot the probability distribution of the Monte Carlo simulation."
   ]
  },
  {
   "cell_type": "code",
   "execution_count": 36,
   "metadata": {},
   "outputs": [
    {
     "data": {
      "text/plain": [
       "<AxesSubplot:title={'center':'Distribution of Final Cumuluative Returns Across All 500 Simulations'}, ylabel='Frequency'>"
      ]
     },
     "execution_count": 36,
     "metadata": {},
     "output_type": "execute_result"
    },
    {
     "data": {
      "image/png": "[encoded data removed]",
      "text/plain": [
       "<Figure size 432x288 with 1 Axes>"
      ]
     },
     "metadata": {
      "needs_background": "light"
     },
     "output_type": "display_data"
    }
   ],
   "source": [
    "# Visualize the probability distribution of the 30-year Monte Carlo simulation \n",
    "# by plotting a histogram\n",
    "thirty_year_simulation.plot_distribution()"
   ]
  },
  {
   "cell_type": "markdown",
   "metadata": {},
   "source": [
    "#### Step 4: Generate the summary statistics for the Monte Carlo simulation."
   ]
  },
  {
   "cell_type": "code",
   "execution_count": 37,
   "metadata": {},
   "outputs": [
    {
     "name": "stdout",
     "output_type": "stream",
     "text": [
      "count           500.000000\n",
      "mean             33.441344\n",
      "std              12.701838\n",
      "min               9.249316\n",
      "25%              24.257635\n",
      "50%              31.574981\n",
      "75%              40.533645\n",
      "max              97.436765\n",
      "95% CI Lower     15.110036\n",
      "95% CI Upper     64.242475\n",
      "Name: 7560, dtype: float64\n"
     ]
    }
   ],
   "source": [
    "# Generate summary statistics from the 30-year Monte Carlo simulation results\n",
    "# Save the results as a variable\n",
    "ret = thirty_year_simulation.summarize_cumulative_return()\n",
    "\n",
    "# Review the 30-year Monte Carlo summary statistics\n",
    "print(ret)"
   ]
  },
  {
   "cell_type": "markdown",
   "metadata": {},
   "source": [
    "### Analyze the Retirement Portfolio Forecasts\n",
    "\n",
    "Using the current value of only the stock and bond portion of the member's portfolio and the summary statistics that you generated from the Monte Carlo simulation, answer the following question in your Jupyter notebook:\n",
    "\n",
    "-  What are the lower and upper bounds for the expected value of the portfolio with a 95% confidence interval?\n"
   ]
  },
  {
   "cell_type": "code",
   "execution_count": 48,
   "metadata": {},
   "outputs": [
    {
     "name": "stdout",
     "output_type": "stream",
     "text": [
      "60689.5\n"
     ]
    }
   ],
   "source": [
    "# Print the current balance of the stock and bond portion of the members portfolio\n",
    "current_balance = total_stocks_bonds\n",
    "\n",
    "# Print results\n",
    "print(current_balance)"
   ]
  },
  {
   "cell_type": "code",
   "execution_count": 49,
   "metadata": {},
   "outputs": [
    {
     "name": "stdout",
     "output_type": "stream",
     "text": [
      "There is a 95% chance that stocks and bonds of $60,689.50 in the portfolio over the next 30 years will end within in the range of $917,020.50 and $3,898,843.68.\n"
     ]
    }
   ],
   "source": [
    "# Use the lower and upper `95%` confidence intervals to calculate the range of the possible outcomes for the current stock/bond portfolio\n",
    "ci_lower = ret[8]\n",
    "ci_upper = ret[9]\n",
    "\n",
    "ci_lower_thirty_cumulative_return = ci_lower * total_stocks_bonds\n",
    "ci_upper_thirty_cumulative_return = ci_upper * total_stocks_bonds\n",
    "\n",
    "# Print the result of your calculations\n",
    "# YOUR CODE HERE\n",
    "\n",
    "# Print results\n",
    "print(f\"There is a 95% chance that stocks and bonds of ${total_stocks_bonds:,.2f} in the portfolio\"\n",
    "      f\" over the next 30 years will end within in the range of\"\n",
    "      f\" ${ci_lower_thirty_cumulative_return:,.2f} and ${ci_upper_thirty_cumulative_return:,.2f}.\")"
   ]
  },
  {
   "cell_type": "markdown",
   "metadata": {},
   "source": [
    "### Forecast Cumulative Returns in 10 Years\n",
    "\n",
    "The CTO of the credit union is impressed with your work on these planning tools but wonders if 30 years is a long time to wait until retirement. So, your next task is to adjust the retirement portfolio and run a new Monte Carlo simulation to find out if the changes will allow members to retire earlier.\n",
    "\n",
    "For this new Monte Carlo simulation, do the following: \n",
    "\n",
    "- Forecast the cumulative returns for 10 years from now. Because of the shortened investment horizon (30 years to 10 years), the portfolio needs to invest more heavily in the riskier asset&mdash;that is, stock&mdash;to help accumulate wealth for retirement. \n",
    "\n",
    "- Adjust the weights of the retirement portfolio so that the composition for the Monte Carlo simulation consists of 20% bonds and 80% stocks. \n",
    "\n",
    "- Run the simulation over 500 samples, and use the same data that the API call to Alpaca generated.\n",
    "\n",
    "- Based on the new Monte Carlo simulation, answer the following questions in your Jupyter notebook:\n",
    "\n",
    "    - Using the current value of only the stock and bond portion of the member's portfolio and the summary statistics that you generated from the new Monte Carlo simulation, what are the lower and upper bounds for the expected value of the portfolio (with the new weights) with a 95% confidence interval?\n",
    "\n",
    "    - Will weighting the portfolio more heavily toward stocks allow the credit union members to retire after only 10 years?\n"
   ]
  },
  {
   "cell_type": "code",
   "execution_count": 50,
   "metadata": {},
   "outputs": [
    {
     "data": {
      "text/html": [
       "<div>\n",
       "<style scoped>\n",
       "    .dataframe tbody tr th:only-of-type {\n",
       "        vertical-align: middle;\n",
       "    }\n",
       "\n",
       "    .dataframe tbody tr th {\n",
       "        vertical-align: top;\n",
       "    }\n",
       "\n",
       "    .dataframe thead tr th {\n",
       "        text-align: left;\n",
       "    }\n",
       "\n",
       "    .dataframe thead tr:last-of-type th {\n",
       "        text-align: right;\n",
       "    }\n",
       "</style>\n",
       "<table border=\"1\" class=\"dataframe\">\n",
       "  <thead>\n",
       "    <tr>\n",
       "      <th></th>\n",
       "      <th colspan=\"6\" halign=\"left\">AGG</th>\n",
       "      <th colspan=\"6\" halign=\"left\">SPY</th>\n",
       "    </tr>\n",
       "    <tr>\n",
       "      <th></th>\n",
       "      <th>open</th>\n",
       "      <th>high</th>\n",
       "      <th>low</th>\n",
       "      <th>close</th>\n",
       "      <th>volume</th>\n",
       "      <th>daily_return</th>\n",
       "      <th>open</th>\n",
       "      <th>high</th>\n",
       "      <th>low</th>\n",
       "      <th>close</th>\n",
       "      <th>volume</th>\n",
       "      <th>daily_return</th>\n",
       "    </tr>\n",
       "    <tr>\n",
       "      <th>time</th>\n",
       "      <th></th>\n",
       "      <th></th>\n",
       "      <th></th>\n",
       "      <th></th>\n",
       "      <th></th>\n",
       "      <th></th>\n",
       "      <th></th>\n",
       "      <th></th>\n",
       "      <th></th>\n",
       "      <th></th>\n",
       "      <th></th>\n",
       "      <th></th>\n",
       "    </tr>\n",
       "  </thead>\n",
       "  <tbody>\n",
       "    <tr>\n",
       "      <th>2020-09-15 00:00:00-04:00</th>\n",
       "      <td>118.2900</td>\n",
       "      <td>118.425</td>\n",
       "      <td>118.29</td>\n",
       "      <td>118.38</td>\n",
       "      <td>3635547</td>\n",
       "      <td>NaN</td>\n",
       "      <td>341.12</td>\n",
       "      <td>342.0200</td>\n",
       "      <td>338.4683</td>\n",
       "      <td>340.15</td>\n",
       "      <td>43980284</td>\n",
       "      <td>NaN</td>\n",
       "    </tr>\n",
       "    <tr>\n",
       "      <th>2020-09-16 00:00:00-04:00</th>\n",
       "      <td>118.5300</td>\n",
       "      <td>118.530</td>\n",
       "      <td>118.20</td>\n",
       "      <td>118.32</td>\n",
       "      <td>5190572</td>\n",
       "      <td>-0.000507</td>\n",
       "      <td>341.51</td>\n",
       "      <td>343.0600</td>\n",
       "      <td>338.5200</td>\n",
       "      <td>338.81</td>\n",
       "      <td>70521698</td>\n",
       "      <td>-0.003939</td>\n",
       "    </tr>\n",
       "    <tr>\n",
       "      <th>2020-09-17 00:00:00-04:00</th>\n",
       "      <td>118.4201</td>\n",
       "      <td>118.520</td>\n",
       "      <td>118.33</td>\n",
       "      <td>118.36</td>\n",
       "      <td>4263541</td>\n",
       "      <td>0.000338</td>\n",
       "      <td>333.56</td>\n",
       "      <td>337.6996</td>\n",
       "      <td>332.9910</td>\n",
       "      <td>335.86</td>\n",
       "      <td>80778657</td>\n",
       "      <td>-0.008707</td>\n",
       "    </tr>\n",
       "    <tr>\n",
       "      <th>2020-09-18 00:00:00-04:00</th>\n",
       "      <td>118.3900</td>\n",
       "      <td>118.440</td>\n",
       "      <td>118.18</td>\n",
       "      <td>118.24</td>\n",
       "      <td>4548578</td>\n",
       "      <td>-0.001014</td>\n",
       "      <td>335.37</td>\n",
       "      <td>335.4900</td>\n",
       "      <td>327.9700</td>\n",
       "      <td>330.69</td>\n",
       "      <td>88780313</td>\n",
       "      <td>-0.015393</td>\n",
       "    </tr>\n",
       "    <tr>\n",
       "      <th>2020-09-21 00:00:00-04:00</th>\n",
       "      <td>118.4100</td>\n",
       "      <td>118.420</td>\n",
       "      <td>118.25</td>\n",
       "      <td>118.26</td>\n",
       "      <td>4787684</td>\n",
       "      <td>0.000169</td>\n",
       "      <td>325.70</td>\n",
       "      <td>327.0900</td>\n",
       "      <td>321.7300</td>\n",
       "      <td>327.00</td>\n",
       "      <td>86591719</td>\n",
       "      <td>-0.011158</td>\n",
       "    </tr>\n",
       "  </tbody>\n",
       "</table>\n",
       "</div>"
      ],
      "text/plain": [
       "                                AGG                                    \\\n",
       "                               open     high     low   close   volume   \n",
       "time                                                                    \n",
       "2020-09-15 00:00:00-04:00  118.2900  118.425  118.29  118.38  3635547   \n",
       "2020-09-16 00:00:00-04:00  118.5300  118.530  118.20  118.32  5190572   \n",
       "2020-09-17 00:00:00-04:00  118.4201  118.520  118.33  118.36  4263541   \n",
       "2020-09-18 00:00:00-04:00  118.3900  118.440  118.18  118.24  4548578   \n",
       "2020-09-21 00:00:00-04:00  118.4100  118.420  118.25  118.26  4787684   \n",
       "\n",
       "                                           SPY                              \\\n",
       "                          daily_return    open      high       low   close   \n",
       "time                                                                         \n",
       "2020-09-15 00:00:00-04:00          NaN  341.12  342.0200  338.4683  340.15   \n",
       "2020-09-16 00:00:00-04:00    -0.000507  341.51  343.0600  338.5200  338.81   \n",
       "2020-09-17 00:00:00-04:00     0.000338  333.56  337.6996  332.9910  335.86   \n",
       "2020-09-18 00:00:00-04:00    -0.001014  335.37  335.4900  327.9700  330.69   \n",
       "2020-09-21 00:00:00-04:00     0.000169  325.70  327.0900  321.7300  327.00   \n",
       "\n",
       "                                                  \n",
       "                             volume daily_return  \n",
       "time                                              \n",
       "2020-09-15 00:00:00-04:00  43980284          NaN  \n",
       "2020-09-16 00:00:00-04:00  70521698    -0.003939  \n",
       "2020-09-17 00:00:00-04:00  80778657    -0.008707  \n",
       "2020-09-18 00:00:00-04:00  88780313    -0.015393  \n",
       "2020-09-21 00:00:00-04:00  86591719    -0.011158  "
      ]
     },
     "execution_count": 50,
     "metadata": {},
     "output_type": "execute_result"
    }
   ],
   "source": [
    "# Configure a Monte Carlo simulation to forecast 10 years cumulative returns\n",
    "# The weights should be split 20% to AGG and 80% to SPY.\n",
    "# Run 500 samples.\n",
    "ten_year_simulation = MCSimulation(\n",
    "    portfolio_data=historical_pricing_df,\n",
    "    weights=[0.80, 0.20],\n",
    "    num_simulation=500,\n",
    "    num_trading_days=252*10,\n",
    ")\n",
    "\n",
    "# Review the simulation input data\n",
    "ten_year_simulation.portfolio_data.head()"
   ]
  },
  {
   "cell_type": "code",
   "execution_count": 51,
   "metadata": {},
   "outputs": [
    {
     "name": "stdout",
     "output_type": "stream",
     "text": [
      "Running Monte Carlo simulation number 0.\n",
      "Running Monte Carlo simulation number 10.\n",
      "Running Monte Carlo simulation number 20.\n",
      "Running Monte Carlo simulation number 30.\n",
      "Running Monte Carlo simulation number 40.\n",
      "Running Monte Carlo simulation number 50.\n",
      "Running Monte Carlo simulation number 60.\n",
      "Running Monte Carlo simulation number 70.\n",
      "Running Monte Carlo simulation number 80.\n",
      "Running Monte Carlo simulation number 90.\n",
      "Running Monte Carlo simulation number 100.\n",
      "Running Monte Carlo simulation number 110.\n",
      "Running Monte Carlo simulation number 120.\n",
      "Running Monte Carlo simulation number 130.\n",
      "Running Monte Carlo simulation number 140.\n",
      "Running Monte Carlo simulation number 150.\n",
      "Running Monte Carlo simulation number 160.\n",
      "Running Monte Carlo simulation number 170.\n",
      "Running Monte Carlo simulation number 180.\n",
      "Running Monte Carlo simulation number 190.\n",
      "Running Monte Carlo simulation number 200.\n",
      "Running Monte Carlo simulation number 210.\n",
      "Running Monte Carlo simulation number 220.\n",
      "Running Monte Carlo simulation number 230.\n",
      "Running Monte Carlo simulation number 240.\n",
      "Running Monte Carlo simulation number 250.\n",
      "Running Monte Carlo simulation number 260.\n",
      "Running Monte Carlo simulation number 270.\n",
      "Running Monte Carlo simulation number 280.\n",
      "Running Monte Carlo simulation number 290.\n",
      "Running Monte Carlo simulation number 300.\n",
      "Running Monte Carlo simulation number 310.\n",
      "Running Monte Carlo simulation number 320.\n",
      "Running Monte Carlo simulation number 330.\n",
      "Running Monte Carlo simulation number 340.\n",
      "Running Monte Carlo simulation number 350.\n",
      "Running Monte Carlo simulation number 360.\n",
      "Running Monte Carlo simulation number 370.\n",
      "Running Monte Carlo simulation number 380.\n",
      "Running Monte Carlo simulation number 390.\n",
      "Running Monte Carlo simulation number 400.\n",
      "Running Monte Carlo simulation number 410.\n",
      "Running Monte Carlo simulation number 420.\n",
      "Running Monte Carlo simulation number 430.\n",
      "Running Monte Carlo simulation number 440.\n",
      "Running Monte Carlo simulation number 450.\n",
      "Running Monte Carlo simulation number 460.\n",
      "Running Monte Carlo simulation number 470.\n",
      "Running Monte Carlo simulation number 480.\n",
      "Running Monte Carlo simulation number 490.\n"
     ]
    },
    {
     "data": {
      "text/html": [
       "<div>\n",
       "<style scoped>\n",
       "    .dataframe tbody tr th:only-of-type {\n",
       "        vertical-align: middle;\n",
       "    }\n",
       "\n",
       "    .dataframe tbody tr th {\n",
       "        vertical-align: top;\n",
       "    }\n",
       "\n",
       "    .dataframe thead th {\n",
       "        text-align: right;\n",
       "    }\n",
       "</style>\n",
       "<table border=\"1\" class=\"dataframe\">\n",
       "  <thead>\n",
       "    <tr style=\"text-align: right;\">\n",
       "      <th></th>\n",
       "      <th>0</th>\n",
       "      <th>1</th>\n",
       "      <th>2</th>\n",
       "      <th>3</th>\n",
       "      <th>4</th>\n",
       "      <th>5</th>\n",
       "      <th>6</th>\n",
       "      <th>7</th>\n",
       "      <th>8</th>\n",
       "      <th>9</th>\n",
       "      <th>...</th>\n",
       "      <th>490</th>\n",
       "      <th>491</th>\n",
       "      <th>492</th>\n",
       "      <th>493</th>\n",
       "      <th>494</th>\n",
       "      <th>495</th>\n",
       "      <th>496</th>\n",
       "      <th>497</th>\n",
       "      <th>498</th>\n",
       "      <th>499</th>\n",
       "    </tr>\n",
       "  </thead>\n",
       "  <tbody>\n",
       "    <tr>\n",
       "      <th>0</th>\n",
       "      <td>1.000000</td>\n",
       "      <td>1.000000</td>\n",
       "      <td>1.000000</td>\n",
       "      <td>1.000000</td>\n",
       "      <td>1.000000</td>\n",
       "      <td>1.000000</td>\n",
       "      <td>1.000000</td>\n",
       "      <td>1.000000</td>\n",
       "      <td>1.000000</td>\n",
       "      <td>1.000000</td>\n",
       "      <td>...</td>\n",
       "      <td>1.000000</td>\n",
       "      <td>1.000000</td>\n",
       "      <td>1.000000</td>\n",
       "      <td>1.000000</td>\n",
       "      <td>1.000000</td>\n",
       "      <td>1.000000</td>\n",
       "      <td>1.000000</td>\n",
       "      <td>1.000000</td>\n",
       "      <td>1.000000</td>\n",
       "      <td>1.000000</td>\n",
       "    </tr>\n",
       "    <tr>\n",
       "      <th>1</th>\n",
       "      <td>1.001585</td>\n",
       "      <td>1.000011</td>\n",
       "      <td>1.001774</td>\n",
       "      <td>1.001536</td>\n",
       "      <td>0.999111</td>\n",
       "      <td>1.006392</td>\n",
       "      <td>1.001360</td>\n",
       "      <td>1.001069</td>\n",
       "      <td>1.001596</td>\n",
       "      <td>0.996012</td>\n",
       "      <td>...</td>\n",
       "      <td>0.998880</td>\n",
       "      <td>0.999409</td>\n",
       "      <td>0.995723</td>\n",
       "      <td>1.000264</td>\n",
       "      <td>0.999732</td>\n",
       "      <td>0.998117</td>\n",
       "      <td>0.998079</td>\n",
       "      <td>1.001623</td>\n",
       "      <td>1.002314</td>\n",
       "      <td>0.999479</td>\n",
       "    </tr>\n",
       "    <tr>\n",
       "      <th>2</th>\n",
       "      <td>1.002060</td>\n",
       "      <td>0.999598</td>\n",
       "      <td>1.003174</td>\n",
       "      <td>1.004623</td>\n",
       "      <td>0.998492</td>\n",
       "      <td>1.011159</td>\n",
       "      <td>0.998830</td>\n",
       "      <td>1.000092</td>\n",
       "      <td>0.998750</td>\n",
       "      <td>0.998616</td>\n",
       "      <td>...</td>\n",
       "      <td>1.001527</td>\n",
       "      <td>0.999413</td>\n",
       "      <td>0.997622</td>\n",
       "      <td>1.003557</td>\n",
       "      <td>1.002549</td>\n",
       "      <td>0.997540</td>\n",
       "      <td>1.001621</td>\n",
       "      <td>1.004715</td>\n",
       "      <td>1.006738</td>\n",
       "      <td>0.998037</td>\n",
       "    </tr>\n",
       "    <tr>\n",
       "      <th>3</th>\n",
       "      <td>1.000211</td>\n",
       "      <td>1.002173</td>\n",
       "      <td>1.005210</td>\n",
       "      <td>1.002666</td>\n",
       "      <td>1.003284</td>\n",
       "      <td>1.010752</td>\n",
       "      <td>0.998607</td>\n",
       "      <td>1.000983</td>\n",
       "      <td>0.994162</td>\n",
       "      <td>0.998781</td>\n",
       "      <td>...</td>\n",
       "      <td>1.001902</td>\n",
       "      <td>1.001587</td>\n",
       "      <td>0.997459</td>\n",
       "      <td>0.999385</td>\n",
       "      <td>1.004943</td>\n",
       "      <td>0.996670</td>\n",
       "      <td>0.999980</td>\n",
       "      <td>1.007388</td>\n",
       "      <td>1.008674</td>\n",
       "      <td>0.998443</td>\n",
       "    </tr>\n",
       "    <tr>\n",
       "      <th>4</th>\n",
       "      <td>0.999741</td>\n",
       "      <td>1.002004</td>\n",
       "      <td>1.004939</td>\n",
       "      <td>1.004242</td>\n",
       "      <td>1.003415</td>\n",
       "      <td>1.010754</td>\n",
       "      <td>0.998975</td>\n",
       "      <td>1.000167</td>\n",
       "      <td>0.994863</td>\n",
       "      <td>0.998201</td>\n",
       "      <td>...</td>\n",
       "      <td>1.002456</td>\n",
       "      <td>1.003352</td>\n",
       "      <td>0.992070</td>\n",
       "      <td>1.000721</td>\n",
       "      <td>1.007868</td>\n",
       "      <td>0.996832</td>\n",
       "      <td>1.004205</td>\n",
       "      <td>1.006012</td>\n",
       "      <td>1.005835</td>\n",
       "      <td>1.000451</td>\n",
       "    </tr>\n",
       "    <tr>\n",
       "      <th>...</th>\n",
       "      <td>...</td>\n",
       "      <td>...</td>\n",
       "      <td>...</td>\n",
       "      <td>...</td>\n",
       "      <td>...</td>\n",
       "      <td>...</td>\n",
       "      <td>...</td>\n",
       "      <td>...</td>\n",
       "      <td>...</td>\n",
       "      <td>...</td>\n",
       "      <td>...</td>\n",
       "      <td>...</td>\n",
       "      <td>...</td>\n",
       "      <td>...</td>\n",
       "      <td>...</td>\n",
       "      <td>...</td>\n",
       "      <td>...</td>\n",
       "      <td>...</td>\n",
       "      <td>...</td>\n",
       "      <td>...</td>\n",
       "      <td>...</td>\n",
       "    </tr>\n",
       "    <tr>\n",
       "      <th>2516</th>\n",
       "      <td>1.373276</td>\n",
       "      <td>1.375770</td>\n",
       "      <td>1.422237</td>\n",
       "      <td>1.276144</td>\n",
       "      <td>1.565320</td>\n",
       "      <td>1.785317</td>\n",
       "      <td>1.247997</td>\n",
       "      <td>1.528847</td>\n",
       "      <td>1.470358</td>\n",
       "      <td>1.399178</td>\n",
       "      <td>...</td>\n",
       "      <td>1.858203</td>\n",
       "      <td>1.637034</td>\n",
       "      <td>1.580328</td>\n",
       "      <td>1.661905</td>\n",
       "      <td>1.426588</td>\n",
       "      <td>1.607674</td>\n",
       "      <td>1.313634</td>\n",
       "      <td>1.682069</td>\n",
       "      <td>1.401709</td>\n",
       "      <td>1.607545</td>\n",
       "    </tr>\n",
       "    <tr>\n",
       "      <th>2517</th>\n",
       "      <td>1.373321</td>\n",
       "      <td>1.376867</td>\n",
       "      <td>1.422315</td>\n",
       "      <td>1.277963</td>\n",
       "      <td>1.568573</td>\n",
       "      <td>1.786355</td>\n",
       "      <td>1.247074</td>\n",
       "      <td>1.527012</td>\n",
       "      <td>1.467930</td>\n",
       "      <td>1.398438</td>\n",
       "      <td>...</td>\n",
       "      <td>1.857817</td>\n",
       "      <td>1.641634</td>\n",
       "      <td>1.575861</td>\n",
       "      <td>1.654440</td>\n",
       "      <td>1.422839</td>\n",
       "      <td>1.610858</td>\n",
       "      <td>1.316601</td>\n",
       "      <td>1.682355</td>\n",
       "      <td>1.401425</td>\n",
       "      <td>1.608259</td>\n",
       "    </tr>\n",
       "    <tr>\n",
       "      <th>2518</th>\n",
       "      <td>1.368831</td>\n",
       "      <td>1.382042</td>\n",
       "      <td>1.416141</td>\n",
       "      <td>1.279761</td>\n",
       "      <td>1.566944</td>\n",
       "      <td>1.795078</td>\n",
       "      <td>1.246290</td>\n",
       "      <td>1.522893</td>\n",
       "      <td>1.469821</td>\n",
       "      <td>1.392107</td>\n",
       "      <td>...</td>\n",
       "      <td>1.865181</td>\n",
       "      <td>1.641699</td>\n",
       "      <td>1.579454</td>\n",
       "      <td>1.652439</td>\n",
       "      <td>1.424315</td>\n",
       "      <td>1.607666</td>\n",
       "      <td>1.319094</td>\n",
       "      <td>1.688124</td>\n",
       "      <td>1.400231</td>\n",
       "      <td>1.608879</td>\n",
       "    </tr>\n",
       "    <tr>\n",
       "      <th>2519</th>\n",
       "      <td>1.368354</td>\n",
       "      <td>1.386681</td>\n",
       "      <td>1.418661</td>\n",
       "      <td>1.285323</td>\n",
       "      <td>1.567092</td>\n",
       "      <td>1.800651</td>\n",
       "      <td>1.241884</td>\n",
       "      <td>1.524933</td>\n",
       "      <td>1.472521</td>\n",
       "      <td>1.395445</td>\n",
       "      <td>...</td>\n",
       "      <td>1.859551</td>\n",
       "      <td>1.633675</td>\n",
       "      <td>1.586678</td>\n",
       "      <td>1.650080</td>\n",
       "      <td>1.429039</td>\n",
       "      <td>1.603583</td>\n",
       "      <td>1.320354</td>\n",
       "      <td>1.690514</td>\n",
       "      <td>1.402305</td>\n",
       "      <td>1.608599</td>\n",
       "    </tr>\n",
       "    <tr>\n",
       "      <th>2520</th>\n",
       "      <td>1.369400</td>\n",
       "      <td>1.386144</td>\n",
       "      <td>1.416707</td>\n",
       "      <td>1.288497</td>\n",
       "      <td>1.564333</td>\n",
       "      <td>1.804328</td>\n",
       "      <td>1.246064</td>\n",
       "      <td>1.523444</td>\n",
       "      <td>1.472674</td>\n",
       "      <td>1.403850</td>\n",
       "      <td>...</td>\n",
       "      <td>1.863554</td>\n",
       "      <td>1.635654</td>\n",
       "      <td>1.587176</td>\n",
       "      <td>1.646978</td>\n",
       "      <td>1.431554</td>\n",
       "      <td>1.597376</td>\n",
       "      <td>1.316649</td>\n",
       "      <td>1.694205</td>\n",
       "      <td>1.404337</td>\n",
       "      <td>1.603011</td>\n",
       "    </tr>\n",
       "  </tbody>\n",
       "</table>\n",
       "<p>2521 rows × 500 columns</p>\n",
       "</div>"
      ],
      "text/plain": [
       "           0         1         2         3         4         5         6    \\\n",
       "0     1.000000  1.000000  1.000000  1.000000  1.000000  1.000000  1.000000   \n",
       "1     1.001585  1.000011  1.001774  1.001536  0.999111  1.006392  1.001360   \n",
       "2     1.002060  0.999598  1.003174  1.004623  0.998492  1.011159  0.998830   \n",
       "3     1.000211  1.002173  1.005210  1.002666  1.003284  1.010752  0.998607   \n",
       "4     0.999741  1.002004  1.004939  1.004242  1.003415  1.010754  0.998975   \n",
       "...        ...       ...       ...       ...       ...       ...       ...   \n",
       "2516  1.373276  1.375770  1.422237  1.276144  1.565320  1.785317  1.247997   \n",
       "2517  1.373321  1.376867  1.422315  1.277963  1.568573  1.786355  1.247074   \n",
       "2518  1.368831  1.382042  1.416141  1.279761  1.566944  1.795078  1.246290   \n",
       "2519  1.368354  1.386681  1.418661  1.285323  1.567092  1.800651  1.241884   \n",
       "2520  1.369400  1.386144  1.416707  1.288497  1.564333  1.804328  1.246064   \n",
       "\n",
       "           7         8         9    ...       490       491       492  \\\n",
       "0     1.000000  1.000000  1.000000  ...  1.000000  1.000000  1.000000   \n",
       "1     1.001069  1.001596  0.996012  ...  0.998880  0.999409  0.995723   \n",
       "2     1.000092  0.998750  0.998616  ...  1.001527  0.999413  0.997622   \n",
       "3     1.000983  0.994162  0.998781  ...  1.001902  1.001587  0.997459   \n",
       "4     1.000167  0.994863  0.998201  ...  1.002456  1.003352  0.992070   \n",
       "...        ...       ...       ...  ...       ...       ...       ...   \n",
       "2516  1.528847  1.470358  1.399178  ...  1.858203  1.637034  1.580328   \n",
       "2517  1.527012  1.467930  1.398438  ...  1.857817  1.641634  1.575861   \n",
       "2518  1.522893  1.469821  1.392107  ...  1.865181  1.641699  1.579454   \n",
       "2519  1.524933  1.472521  1.395445  ...  1.859551  1.633675  1.586678   \n",
       "2520  1.523444  1.472674  1.403850  ...  1.863554  1.635654  1.587176   \n",
       "\n",
       "           493       494       495       496       497       498       499  \n",
       "0     1.000000  1.000000  1.000000  1.000000  1.000000  1.000000  1.000000  \n",
       "1     1.000264  0.999732  0.998117  0.998079  1.001623  1.002314  0.999479  \n",
       "2     1.003557  1.002549  0.997540  1.001621  1.004715  1.006738  0.998037  \n",
       "3     0.999385  1.004943  0.996670  0.999980  1.007388  1.008674  0.998443  \n",
       "4     1.000721  1.007868  0.996832  1.004205  1.006012  1.005835  1.000451  \n",
       "...        ...       ...       ...       ...       ...       ...       ...  \n",
       "2516  1.661905  1.426588  1.607674  1.313634  1.682069  1.401709  1.607545  \n",
       "2517  1.654440  1.422839  1.610858  1.316601  1.682355  1.401425  1.608259  \n",
       "2518  1.652439  1.424315  1.607666  1.319094  1.688124  1.400231  1.608879  \n",
       "2519  1.650080  1.429039  1.603583  1.320354  1.690514  1.402305  1.608599  \n",
       "2520  1.646978  1.431554  1.597376  1.316649  1.694205  1.404337  1.603011  \n",
       "\n",
       "[2521 rows x 500 columns]"
      ]
     },
     "execution_count": 51,
     "metadata": {},
     "output_type": "execute_result"
    }
   ],
   "source": [
    "# Run the Monte Carlo simulation to forecast 10 years cumulative returns\n",
    "ten_year_simulation.calc_cumulative_return()"
   ]
  },
  {
   "cell_type": "code",
   "execution_count": 52,
   "metadata": {},
   "outputs": [
    {
     "data": {
      "text/plain": [
       "<AxesSubplot:title={'center':'500 Simulations of Cumulative Portfolio Return Trajectories Over the Next 2520 Trading Days.'}>"
      ]
     },
     "execution_count": 52,
     "metadata": {},
     "output_type": "execute_result"
    },
    {
     "data": {
      "image/png": "[encoded data removed]",
      "text/plain": [
       "<Figure size 432x288 with 1 Axes>"
      ]
     },
     "metadata": {
      "needs_background": "light"
     },
     "output_type": "display_data"
    }
   ],
   "source": [
    "# Visualize the 10-year Monte Carlo simulation by creating an\n",
    "# overlay line plot\n",
    "ten_year_simulation.plot_simulation()"
   ]
  },
  {
   "cell_type": "code",
   "execution_count": 53,
   "metadata": {},
   "outputs": [
    {
     "data": {
      "text/plain": [
       "<AxesSubplot:title={'center':'Distribution of Final Cumuluative Returns Across All 500 Simulations'}, ylabel='Frequency'>"
      ]
     },
     "execution_count": 53,
     "metadata": {},
     "output_type": "execute_result"
    },
    {
     "data": {
      "image/png": "[encoded data removed]",
      "text/plain": [
       "<Figure size 432x288 with 1 Axes>"
      ]
     },
     "metadata": {
      "needs_background": "light"
     },
     "output_type": "display_data"
    }
   ],
   "source": [
    "# Visualize the probability distribution of the 10-year Monte Carlo simulation \n",
    "# by plotting a histogram\n",
    "ten_year_simulation.plot_distribution()"
   ]
  },
  {
   "cell_type": "code",
   "execution_count": 54,
   "metadata": {},
   "outputs": [
    {
     "name": "stdout",
     "output_type": "stream",
     "text": [
      "count           500.000000\n",
      "mean              1.506488\n",
      "std               0.188194\n",
      "min               1.014746\n",
      "25%               1.379372\n",
      "50%               1.486889\n",
      "75%               1.627767\n",
      "max               2.245731\n",
      "95% CI Lower      1.174140\n",
      "95% CI Upper      1.917243\n",
      "Name: 2520, dtype: float64\n"
     ]
    }
   ],
   "source": [
    "# Generate summary statistics from the 10-year Monte Carlo simulation results\n",
    "# Save the results as a variable\n",
    "ten_ret = ten_year_simulation.summarize_cumulative_return()\n",
    "\n",
    "# Review the 10-year Monte Carlo summary statistics\n",
    "print(ten_ret)"
   ]
  },
  {
   "cell_type": "markdown",
   "metadata": {},
   "source": [
    "### Answer the following questions:"
   ]
  },
  {
   "cell_type": "markdown",
   "metadata": {},
   "source": [
    "#### Question: Using the current value of only the stock and bond portion of the member's portfolio and the summary statistics that you generated from the new Monte Carlo simulation, what are the lower and upper bounds for the expected value of the portfolio (with the new weights) with a 95% confidence interval?"
   ]
  },
  {
   "cell_type": "code",
   "execution_count": 55,
   "metadata": {},
   "outputs": [],
   "source": [
    "# Print the current balance of the stock and bond portion of the members portfolio\n",
    "\n",
    "ten_ci_lower = ten_ret[8]\n",
    "ten_ci_upper = ten_ret[9]"
   ]
  },
  {
   "cell_type": "code",
   "execution_count": 56,
   "metadata": {},
   "outputs": [
    {
     "name": "stdout",
     "output_type": "stream",
     "text": [
      "There is a 95% chance that stocks and bonds of $60,689.50 in the portfolio over the next 10 years will end within in the range of $71,257.99 and $116,356.52.\n"
     ]
    }
   ],
   "source": [
    "# Use the lower and upper `95%` confidence intervals to calculate the range of the possible outcomes for the current stock/bond portfolio\n",
    "ci_lower_ten_cumulative_return = ten_ci_lower * total_stocks_bonds\n",
    "ci_upper_ten_cumulative_return = ten_ci_upper * total_stocks_bonds\n",
    "\n",
    "print(f\"There is a 95% chance that stocks and bonds of ${total_stocks_bonds:,.2f} in the portfolio\"\n",
    "      f\" over the next 10 years will end within in the range of\"\n",
    "      f\" ${ci_lower_ten_cumulative_return:,.2f} and ${ci_upper_ten_cumulative_return:,.2f}.\")"
   ]
  },
  {
   "cell_type": "markdown",
   "metadata": {},
   "source": [
    "#### Question: Will weighting the portfolio more heavily to stocks allow the credit union members to retire after only 10 years?"
   ]
  },
  {
   "cell_type": "raw",
   "metadata": {},
   "source": [
    "**Answer** Yes, allocating more to stocks will allow members to retire after 10 yeasr as the lower range is $71,257.99 which is above the emergency reserve fund amount of $36,000"
   ]
  },
  {
   "cell_type": "code",
   "execution_count": null,
   "metadata": {},
   "outputs": [],
   "source": []
  }
 ],
 "metadata": {
  "kernelspec": {
   "display_name": "Python (dev)",
   "language": "python",
   "name": "dev"
  },
  "language_info": {
   "codemirror_mode": {
    "name": "ipython",
    "version": 3
   },
   "file_extension": ".py",
   "mimetype": "text/x-python",
   "name": "python",
   "nbconvert_exporter": "python",
   "pygments_lexer": "ipython3",
   "version": "3.7.9"
  }
 },
 "nbformat": 4,
 "nbformat_minor": 4
}
